{
 "cells": [
  {
   "cell_type": "markdown",
   "id": "ba5754af",
   "metadata": {},
   "source": [
    "Les informations de la base de données se trouve ici : https://www.kaggle.com/datasets/uom190346a/sleep-health-and-lifestyle-dataset?resource=download\n",
    "\n",
    "\n",
    "# EDA réalisé dans le cadre d'une premiere exploration des données , ce document servira de base de travail pour de futurs explorations des données, un CheatSheet en quelques sortes !!!\n",
    "\n",
    "## Commençons par une courte définition :\n",
    "#### l'EDA est une méthode exploratoire qui permet d'analyser, de visualiser et de comprendre les données brutes afin de découvrir des modèles, des tendances et des insights importants, et de poser les bases pour des analyses plus avancées et des prises de décision éclairées, de plus prévenir et réduire les différents biais.\n"
   ]
  },
  {
   "cell_type": "markdown",
   "id": "844db4bf",
   "metadata": {},
   "source": [
    "## Charger les bibliothèques nécessaires"
   ]
  },
  {
   "cell_type": "code",
   "id": "76096834",
   "metadata": {
    "ExecuteTime": {
     "end_time": "2024-11-07T19:13:16.109998Z",
     "start_time": "2024-11-07T19:13:16.102997Z"
    }
   },
   "source": [
    "import matplotlib.pyplot as plt\n",
    "import seaborn as sns\n",
    "import pandas as pd\n",
    "import numpy as np\n"
   ],
   "outputs": [],
   "execution_count": 4
  },
  {
   "cell_type": "markdown",
   "id": "075c377b",
   "metadata": {},
   "source": [
    "## Charger la base de données et vérifier qu'elle est chargée"
   ]
  },
  {
   "cell_type": "code",
   "id": "f3ba607d",
   "metadata": {
    "ExecuteTime": {
     "end_time": "2024-11-07T19:13:16.555999Z",
     "start_time": "2024-11-07T19:13:16.479997Z"
    }
   },
   "source": [
    "df = pd.read_excel('data/Sleep_health_and_lifestyle_dataset_bruit.xlsx')\n",
    "df.sample(5)"
   ],
   "outputs": [
    {
     "data": {
      "text/plain": [
       "     Person ID  Gender   Age  Occupation  Temperatur  Sleep Duration  \\\n",
       "295        296  Female  50.0       Nurse        22.1             6.0   \n",
       "130        131  Female  38.0  Accountant         NaN             7.1   \n",
       "313        314  Female  52.0    Engineer         NaN             8.4   \n",
       "212        213    Male  43.0    Engineer        21.0             7.8   \n",
       "88          89    Male  35.0    Engineer        20.6             7.3   \n",
       "\n",
       "     Quality of Sleep  Physical Activity Level  Stress Level BMI Category  \\\n",
       "295               6.0                     90.0           8.0   Overweight   \n",
       "130               8.0                     60.0           4.0       Normal   \n",
       "313               9.0                     30.0           3.0       Normal   \n",
       "212               8.0                     90.0           5.0       Normal   \n",
       "88                8.0                     60.0           4.0       Normal   \n",
       "\n",
       "    Blood Pressure  Heart Rate  Daily Steps Sleep Disorder  \n",
       "295         140/95        75.0      10000.0    Sleep Apnea  \n",
       "130         115/75        68.0       7000.0            NaN  \n",
       "313         125/80        65.0       5000.0            NaN  \n",
       "212         130/85        70.0       8000.0            NaN  \n",
       "88          125/80        65.0       5000.0            NaN  "
      ],
      "text/html": [
       "<div>\n",
       "<style scoped>\n",
       "    .dataframe tbody tr th:only-of-type {\n",
       "        vertical-align: middle;\n",
       "    }\n",
       "\n",
       "    .dataframe tbody tr th {\n",
       "        vertical-align: top;\n",
       "    }\n",
       "\n",
       "    .dataframe thead th {\n",
       "        text-align: right;\n",
       "    }\n",
       "</style>\n",
       "<table border=\"1\" class=\"dataframe\">\n",
       "  <thead>\n",
       "    <tr style=\"text-align: right;\">\n",
       "      <th></th>\n",
       "      <th>Person ID</th>\n",
       "      <th>Gender</th>\n",
       "      <th>Age</th>\n",
       "      <th>Occupation</th>\n",
       "      <th>Temperatur</th>\n",
       "      <th>Sleep Duration</th>\n",
       "      <th>Quality of Sleep</th>\n",
       "      <th>Physical Activity Level</th>\n",
       "      <th>Stress Level</th>\n",
       "      <th>BMI Category</th>\n",
       "      <th>Blood Pressure</th>\n",
       "      <th>Heart Rate</th>\n",
       "      <th>Daily Steps</th>\n",
       "      <th>Sleep Disorder</th>\n",
       "    </tr>\n",
       "  </thead>\n",
       "  <tbody>\n",
       "    <tr>\n",
       "      <th>295</th>\n",
       "      <td>296</td>\n",
       "      <td>Female</td>\n",
       "      <td>50.0</td>\n",
       "      <td>Nurse</td>\n",
       "      <td>22.1</td>\n",
       "      <td>6.0</td>\n",
       "      <td>6.0</td>\n",
       "      <td>90.0</td>\n",
       "      <td>8.0</td>\n",
       "      <td>Overweight</td>\n",
       "      <td>140/95</td>\n",
       "      <td>75.0</td>\n",
       "      <td>10000.0</td>\n",
       "      <td>Sleep Apnea</td>\n",
       "    </tr>\n",
       "    <tr>\n",
       "      <th>130</th>\n",
       "      <td>131</td>\n",
       "      <td>Female</td>\n",
       "      <td>38.0</td>\n",
       "      <td>Accountant</td>\n",
       "      <td>NaN</td>\n",
       "      <td>7.1</td>\n",
       "      <td>8.0</td>\n",
       "      <td>60.0</td>\n",
       "      <td>4.0</td>\n",
       "      <td>Normal</td>\n",
       "      <td>115/75</td>\n",
       "      <td>68.0</td>\n",
       "      <td>7000.0</td>\n",
       "      <td>NaN</td>\n",
       "    </tr>\n",
       "    <tr>\n",
       "      <th>313</th>\n",
       "      <td>314</td>\n",
       "      <td>Female</td>\n",
       "      <td>52.0</td>\n",
       "      <td>Engineer</td>\n",
       "      <td>NaN</td>\n",
       "      <td>8.4</td>\n",
       "      <td>9.0</td>\n",
       "      <td>30.0</td>\n",
       "      <td>3.0</td>\n",
       "      <td>Normal</td>\n",
       "      <td>125/80</td>\n",
       "      <td>65.0</td>\n",
       "      <td>5000.0</td>\n",
       "      <td>NaN</td>\n",
       "    </tr>\n",
       "    <tr>\n",
       "      <th>212</th>\n",
       "      <td>213</td>\n",
       "      <td>Male</td>\n",
       "      <td>43.0</td>\n",
       "      <td>Engineer</td>\n",
       "      <td>21.0</td>\n",
       "      <td>7.8</td>\n",
       "      <td>8.0</td>\n",
       "      <td>90.0</td>\n",
       "      <td>5.0</td>\n",
       "      <td>Normal</td>\n",
       "      <td>130/85</td>\n",
       "      <td>70.0</td>\n",
       "      <td>8000.0</td>\n",
       "      <td>NaN</td>\n",
       "    </tr>\n",
       "    <tr>\n",
       "      <th>88</th>\n",
       "      <td>89</td>\n",
       "      <td>Male</td>\n",
       "      <td>35.0</td>\n",
       "      <td>Engineer</td>\n",
       "      <td>20.6</td>\n",
       "      <td>7.3</td>\n",
       "      <td>8.0</td>\n",
       "      <td>60.0</td>\n",
       "      <td>4.0</td>\n",
       "      <td>Normal</td>\n",
       "      <td>125/80</td>\n",
       "      <td>65.0</td>\n",
       "      <td>5000.0</td>\n",
       "      <td>NaN</td>\n",
       "    </tr>\n",
       "  </tbody>\n",
       "</table>\n",
       "</div>"
      ]
     },
     "execution_count": 5,
     "metadata": {},
     "output_type": "execute_result"
    }
   ],
   "execution_count": 5
  },
  {
   "cell_type": "markdown",
   "id": "32984208",
   "metadata": {},
   "source": [
    "## Créer une copie de votre df"
   ]
  },
  {
   "cell_type": "code",
   "id": "d4cd9b51",
   "metadata": {
    "ExecuteTime": {
     "end_time": "2024-11-07T19:13:16.571998Z",
     "start_time": "2024-11-07T19:13:16.557997Z"
    }
   },
   "source": [
    "df_copy = df.copy()"
   ],
   "outputs": [],
   "execution_count": 6
  },
  {
   "cell_type": "markdown",
   "id": "ea32c531",
   "metadata": {},
   "source": [
    "## Analyser les features\n",
    "##### Afficher sans répétition le contenu de chaque feature"
   ]
  },
  {
   "cell_type": "code",
   "id": "e78c19d6",
   "metadata": {
    "ExecuteTime": {
     "end_time": "2024-11-07T19:13:16.587997Z",
     "start_time": "2024-11-07T19:13:16.572999Z"
    }
   },
   "source": [
    "# df.shape\n",
    "df.info()\n",
    "# df.head()\n",
    "# df.describe()\n",
    "# df.dtypes\n",
    "# df.tail()\n",
    "# df.columns\n",
    "# df.isna().sum()"
   ],
   "outputs": [
    {
     "name": "stdout",
     "output_type": "stream",
     "text": [
      "<class 'pandas.core.frame.DataFrame'>\n",
      "RangeIndex: 374 entries, 0 to 373\n",
      "Data columns (total 14 columns):\n",
      " #   Column                   Non-Null Count  Dtype  \n",
      "---  ------                   --------------  -----  \n",
      " 0   Person ID                374 non-null    int64  \n",
      " 1   Gender                   370 non-null    object \n",
      " 2   Age                      369 non-null    float64\n",
      " 3   Occupation               366 non-null    object \n",
      " 4   Temperatur               201 non-null    float64\n",
      " 5   Sleep Duration           368 non-null    float64\n",
      " 6   Quality of Sleep         371 non-null    float64\n",
      " 7   Physical Activity Level  369 non-null    float64\n",
      " 8   Stress Level             370 non-null    float64\n",
      " 9   BMI Category             360 non-null    object \n",
      " 10  Blood Pressure           367 non-null    object \n",
      " 11  Heart Rate               363 non-null    float64\n",
      " 12  Daily Steps              371 non-null    float64\n",
      " 13  Sleep Disorder           155 non-null    object \n",
      "dtypes: float64(8), int64(1), object(5)\n",
      "memory usage: 41.0+ KB\n"
     ]
    }
   ],
   "execution_count": 7
  },
  {
   "cell_type": "code",
   "source": [
    "df.head()"
   ],
   "metadata": {
    "collapsed": false,
    "ExecuteTime": {
     "end_time": "2024-11-07T19:13:16.603999Z",
     "start_time": "2024-11-07T19:13:16.589997Z"
    }
   },
   "id": "e83d4f9aa2787111",
   "outputs": [
    {
     "data": {
      "text/plain": [
       "   Person ID Gender   Age            Occupation  Temperatur  Sleep Duration  \\\n",
       "0          1   Male  27.0     Software Engineer        20.0             6.1   \n",
       "1          2   Male  28.0                Doctor        21.0             6.2   \n",
       "2          3   Male  28.0                Doctor        20.0             6.2   \n",
       "3          4   Male  28.0  Sales Representative        21.2             5.9   \n",
       "4          5   Male  28.0  Sales Representative        22.1             5.9   \n",
       "\n",
       "   Quality of Sleep  Physical Activity Level  Stress Level BMI Category  \\\n",
       "0               6.0                     42.0           6.0   Overweight   \n",
       "1               6.0                     60.0           8.0       Normal   \n",
       "2               6.0                     60.0           8.0       Normal   \n",
       "3               4.0                     30.0           8.0        Obese   \n",
       "4               4.0                     30.0           8.0        Obese   \n",
       "\n",
       "  Blood Pressure  Heart Rate  Daily Steps Sleep Disorder  \n",
       "0         126/83        77.0       4200.0            NaN  \n",
       "1         125/80        75.0      10000.0            NaN  \n",
       "2         125/80        75.0      10000.0            NaN  \n",
       "3         140/90        85.0       3000.0    Sleep Apnea  \n",
       "4         140/90        85.0       3000.0    Sleep Apnea  "
      ],
      "text/html": [
       "<div>\n",
       "<style scoped>\n",
       "    .dataframe tbody tr th:only-of-type {\n",
       "        vertical-align: middle;\n",
       "    }\n",
       "\n",
       "    .dataframe tbody tr th {\n",
       "        vertical-align: top;\n",
       "    }\n",
       "\n",
       "    .dataframe thead th {\n",
       "        text-align: right;\n",
       "    }\n",
       "</style>\n",
       "<table border=\"1\" class=\"dataframe\">\n",
       "  <thead>\n",
       "    <tr style=\"text-align: right;\">\n",
       "      <th></th>\n",
       "      <th>Person ID</th>\n",
       "      <th>Gender</th>\n",
       "      <th>Age</th>\n",
       "      <th>Occupation</th>\n",
       "      <th>Temperatur</th>\n",
       "      <th>Sleep Duration</th>\n",
       "      <th>Quality of Sleep</th>\n",
       "      <th>Physical Activity Level</th>\n",
       "      <th>Stress Level</th>\n",
       "      <th>BMI Category</th>\n",
       "      <th>Blood Pressure</th>\n",
       "      <th>Heart Rate</th>\n",
       "      <th>Daily Steps</th>\n",
       "      <th>Sleep Disorder</th>\n",
       "    </tr>\n",
       "  </thead>\n",
       "  <tbody>\n",
       "    <tr>\n",
       "      <th>0</th>\n",
       "      <td>1</td>\n",
       "      <td>Male</td>\n",
       "      <td>27.0</td>\n",
       "      <td>Software Engineer</td>\n",
       "      <td>20.0</td>\n",
       "      <td>6.1</td>\n",
       "      <td>6.0</td>\n",
       "      <td>42.0</td>\n",
       "      <td>6.0</td>\n",
       "      <td>Overweight</td>\n",
       "      <td>126/83</td>\n",
       "      <td>77.0</td>\n",
       "      <td>4200.0</td>\n",
       "      <td>NaN</td>\n",
       "    </tr>\n",
       "    <tr>\n",
       "      <th>1</th>\n",
       "      <td>2</td>\n",
       "      <td>Male</td>\n",
       "      <td>28.0</td>\n",
       "      <td>Doctor</td>\n",
       "      <td>21.0</td>\n",
       "      <td>6.2</td>\n",
       "      <td>6.0</td>\n",
       "      <td>60.0</td>\n",
       "      <td>8.0</td>\n",
       "      <td>Normal</td>\n",
       "      <td>125/80</td>\n",
       "      <td>75.0</td>\n",
       "      <td>10000.0</td>\n",
       "      <td>NaN</td>\n",
       "    </tr>\n",
       "    <tr>\n",
       "      <th>2</th>\n",
       "      <td>3</td>\n",
       "      <td>Male</td>\n",
       "      <td>28.0</td>\n",
       "      <td>Doctor</td>\n",
       "      <td>20.0</td>\n",
       "      <td>6.2</td>\n",
       "      <td>6.0</td>\n",
       "      <td>60.0</td>\n",
       "      <td>8.0</td>\n",
       "      <td>Normal</td>\n",
       "      <td>125/80</td>\n",
       "      <td>75.0</td>\n",
       "      <td>10000.0</td>\n",
       "      <td>NaN</td>\n",
       "    </tr>\n",
       "    <tr>\n",
       "      <th>3</th>\n",
       "      <td>4</td>\n",
       "      <td>Male</td>\n",
       "      <td>28.0</td>\n",
       "      <td>Sales Representative</td>\n",
       "      <td>21.2</td>\n",
       "      <td>5.9</td>\n",
       "      <td>4.0</td>\n",
       "      <td>30.0</td>\n",
       "      <td>8.0</td>\n",
       "      <td>Obese</td>\n",
       "      <td>140/90</td>\n",
       "      <td>85.0</td>\n",
       "      <td>3000.0</td>\n",
       "      <td>Sleep Apnea</td>\n",
       "    </tr>\n",
       "    <tr>\n",
       "      <th>4</th>\n",
       "      <td>5</td>\n",
       "      <td>Male</td>\n",
       "      <td>28.0</td>\n",
       "      <td>Sales Representative</td>\n",
       "      <td>22.1</td>\n",
       "      <td>5.9</td>\n",
       "      <td>4.0</td>\n",
       "      <td>30.0</td>\n",
       "      <td>8.0</td>\n",
       "      <td>Obese</td>\n",
       "      <td>140/90</td>\n",
       "      <td>85.0</td>\n",
       "      <td>3000.0</td>\n",
       "      <td>Sleep Apnea</td>\n",
       "    </tr>\n",
       "  </tbody>\n",
       "</table>\n",
       "</div>"
      ]
     },
     "execution_count": 8,
     "metadata": {},
     "output_type": "execute_result"
    }
   ],
   "execution_count": 8
  },
  {
   "cell_type": "markdown",
   "source": [
    "##### pour une première visualisation, on peut remarquer que certaine colonne sont des Floats, que la colonne 'Person ID' peut poser un problème pour la detection des doublons,\n",
    "##### et que la colonne 'Age' est rangée par ordre croissant!"
   ],
   "metadata": {
    "collapsed": false
   },
   "id": "1825fb0c0b9f9d40"
  },
  {
   "cell_type": "markdown",
   "id": "bc0bbc9d",
   "metadata": {},
   "source": [
    "### voici de courte définition des différentes méthodes pour une pré-explorations des données ( CheatSheet )\n",
    "##### df.shape : Renvoie un tuple contenant le nombre de lignes et de colonnes\n",
    "##### df.info() : Affiche des informations générales sur le dataframe\n",
    "##### df.head() : Affiche les premières lignes du dataframe\n",
    "##### df.describe() : Fournit un résumé statistique des colonnes numériques du dataframe\n",
    "##### df.dtypes : Renvoie les types de données des colonnes du dataframe\n",
    "##### df.tail() : Affiche les dernières lignes du dataframe\n",
    "##### df.columns : Renvoie les noms des colonnes du dataframe\n",
    "##### df.isna().sum() : Calcule le nombre de valeurs manquantes (NaN) dans chaque colonne du dataframe"
   ]
  },
  {
   "cell_type": "markdown",
   "id": "344fd306",
   "metadata": {},
   "source": [
    "## Si existant, supprimer le feature qui ne servira pas ou qui pourrait poser problème pour la suite"
   ]
  },
  {
   "cell_type": "code",
   "id": "07b57e2b",
   "metadata": {
    "ExecuteTime": {
     "end_time": "2024-11-07T19:13:16.618997Z",
     "start_time": "2024-11-07T19:13:16.605001Z"
    }
   },
   "source": [
    "# version 1\n",
    "df.drop(['Person ID'], axis=1, inplace=True)\n",
    "df.columns\n",
    "\n",
    "\n",
    "# version 2\n",
    "#if df['Person ID'] :\n",
    "    #df.drop('Person ID', axis=1, inplace=True)"
   ],
   "outputs": [
    {
     "data": {
      "text/plain": [
       "Index(['Gender', 'Age', 'Occupation', 'Temperatur', 'Sleep Duration',\n",
       "       'Quality of Sleep', 'Physical Activity Level', 'Stress Level',\n",
       "       'BMI Category', 'Blood Pressure', 'Heart Rate', 'Daily Steps',\n",
       "       'Sleep Disorder'],\n",
       "      dtype='object')"
      ]
     },
     "execution_count": 9,
     "metadata": {},
     "output_type": "execute_result"
    }
   ],
   "execution_count": 9
  },
  {
   "cell_type": "markdown",
   "id": "c20dc07a",
   "metadata": {},
   "source": [
    "##### Nous avons déterminé au préalable que la colonne ' Person ID ' ne peut nous permettre de trouver les doublons , par le simple fait que chaque lignes est indexé a un 'ID' , par conséquent\n",
    "##### si dans nos colonnes , nous sommes en capacité de voir en affichant le dataframe qu'il existe des redondances dans les informations , il nous est impossible de les traiter comme telle\n",
    "##### puisque qu'elle ont chacune, un 'ID' différent et donc sont pas considéré comme doublons"
   ]
  },
  {
   "cell_type": "markdown",
   "id": "82b5c2b2",
   "metadata": {},
   "source": [
    "# correction des anomalies existantes"
   ]
  },
  {
   "cell_type": "code",
   "id": "e56686b5",
   "metadata": {
    "ExecuteTime": {
     "end_time": "2024-11-07T19:13:16.650998Z",
     "start_time": "2024-11-07T19:13:16.644004Z"
    }
   },
   "source": [
    "# la méthode 'df.duplicated()' sers à identifier si il existe des doublons dans notre DataFrame, suivi de '.sum()' pour avoir la somme de toutes les lignes considérées comme telle\n",
    "df.duplicated().sum()"
   ],
   "outputs": [
    {
     "data": {
      "text/plain": [
       "np.int64(102)"
      ]
     },
     "execution_count": 10,
     "metadata": {},
     "output_type": "execute_result"
    }
   ],
   "execution_count": 10
  },
  {
   "cell_type": "markdown",
   "id": "38b20c26",
   "metadata": {},
   "source": [
    "##### on remarque donc qu'il y a 102 elements qui sont considéré comme des doublons et qui serons inutiles lors des prochaines phases de traitement de nos données"
   ]
  },
  {
   "cell_type": "code",
   "id": "6fa45af6",
   "metadata": {
    "ExecuteTime": {
     "end_time": "2024-11-07T19:13:16.730998Z",
     "start_time": "2024-11-07T19:13:16.708999Z"
    }
   },
   "source": [
    "# l'étape suivante, on va utiliser la fonction 'df.drop_duplicated', afin d'enlever les lignes considérées lors de l'étape précédente comme des doublons\n",
    "# puis nous allons réappliquer le méthode vu ci-dessus pour confirmer que nos doublons ont bien étaient drop(supprimer)\n",
    "df = df.drop_duplicates()\n",
    "df.duplicated().sum()"
   ],
   "outputs": [
    {
     "data": {
      "text/plain": [
       "np.int64(0)"
      ]
     },
     "execution_count": 11,
     "metadata": {},
     "output_type": "execute_result"
    }
   ],
   "execution_count": 11
  },
  {
   "cell_type": "markdown",
   "id": "3f81e1a6",
   "metadata": {},
   "source": [
    "## Afficher la somme des données manquantes par chaque feature en pourcentage\n",
    "##### dans la fonction suivante nous allons utiliser la méthode 'isna' et 'sum'\n",
    "##### 'isna()' permettant de récupérer dans chaque colonnes de notre DataFrame les données manquantes\n",
    "##### 'sum()' de faire la somme par colonnes\n",
    "##### que l'on va ensuite diviser par le nombre de lignes de notre DataFrame( ' len(df) ' ) et le multiplier par 100\n",
    "##### pour nous permettre d'obtenir un pourcentage, afin d'identifier plus simplement les colonnes qui contiendraient le plus de données manquantes"
   ]
  },
  {
   "cell_type": "code",
   "id": "4102372c",
   "metadata": {
    "ExecuteTime": {
     "end_time": "2024-11-07T19:13:16.890113Z",
     "start_time": "2024-11-07T19:13:16.884112Z"
    }
   },
   "source": [
    "df.isna().sum() / len(df) * 100"
   ],
   "outputs": [
    {
     "data": {
      "text/plain": [
       "Gender                      1.470588\n",
       "Age                         1.838235\n",
       "Occupation                  2.941176\n",
       "Temperatur                 35.294118\n",
       "Sleep Duration              2.205882\n",
       "Quality of Sleep            1.102941\n",
       "Physical Activity Level     1.838235\n",
       "Stress Level                1.470588\n",
       "BMI Category                5.147059\n",
       "Blood Pressure              2.573529\n",
       "Heart Rate                  3.676471\n",
       "Daily Steps                 1.102941\n",
       "Sleep Disorder             61.764706\n",
       "dtype: float64"
      ]
     },
     "execution_count": 12,
     "metadata": {},
     "output_type": "execute_result"
    }
   ],
   "execution_count": 12
  },
  {
   "cell_type": "markdown",
   "id": "d121f9fd",
   "metadata": {},
   "source": [
    "## Visualiser le heatmap des données manquantes\n",
    "##### voir un tableau avec des pourcentages est une étape qui nous permet certes de visualiser quel colonnes en contient le plus\n",
    "##### mais sous forme graphique cela nous permettra d'avoir une meilleure vue d'ensemble, et ainsi nous servir de support d'explication"
   ]
  },
  {
   "cell_type": "code",
   "id": "17355c8b",
   "metadata": {
    "ExecuteTime": {
     "end_time": "2024-11-07T19:13:17.303769Z",
     "start_time": "2024-11-07T19:13:16.972771Z"
    }
   },
   "source": [
    "# nous allons donc utiliser deux bibliothèques, que nous avons précédemment importé dans la premiere cellule de notre document.\n",
    "# grace à  Matplotlib , nous allons être en capacité de créer une visualisation graphique de notre tableau de pourcentage.\n",
    "# pour ce faire , nous allons utiliser 'figure' de matplotlib, pour créer la forme et les dimensions du graphique.\n",
    "# puis 'heatmap' provenant de la bibliotheque seaborn , qui permet de définir le type et le contenue du graphique.\n",
    "# nous concluons avec 'show' de matplotlib pour afficher l'ensemble.\n",
    "\n",
    "plt.figure(figsize=(10,6))\n",
    "heatmap = sns.heatmap(df.isna(), cmap='cool')\n",
    "plt.show()"
   ],
   "outputs": [
    {
     "data": {
      "text/plain": [
       "<Figure size 1000x600 with 2 Axes>"
      ],
      "image/png": "[encoded data removed]"
     },
     "metadata": {},
     "output_type": "display_data"
    }
   ],
   "execution_count": 13
  },
  {
   "cell_type": "markdown",
   "id": "11d16976",
   "metadata": {},
   "source": [
    "##### # PS: il existe un certain nombre de paramètres autant pour Seaborn que pour Matplotlib\n",
    "##### n'hésitez pas a faire les recherches dans leurs documentations respectives pour customiser vos graphiques !!"
   ]
  },
  {
   "cell_type": "code",
   "id": "f4229766",
   "metadata": {
    "ExecuteTime": {
     "end_time": "2024-11-07T19:13:17.319770Z",
     "start_time": "2024-11-07T19:13:17.305772Z"
    }
   },
   "source": [
    "# suite a l'affichage de notre graphique, nous pouvons nous rendre compte que la colonne 'Sleep Disorder' est considérée comme ayant un fort taux de données manquantes ( 63% )\n",
    "# pourtant dans le document fournie par le client, il est bien précisé que l'appellation 'NaN' signifie que le patient n'a pas de problème de sommeil\n",
    "# nous allons devoir y remédier pour pouvoir continuer a travail sur notre DataSet\n",
    "# avant tout vérifions si c'est bien la seule informations que nous avons à modifier dans cette colonne\n",
    "df['Sleep Disorder'].unique()"
   ],
   "outputs": [
    {
     "data": {
      "text/plain": [
       "array([nan, 'Sleep Apnea', 'Insomnia'], dtype=object)"
      ]
     },
     "execution_count": 14,
     "metadata": {},
     "output_type": "execute_result"
    }
   ],
   "execution_count": 14
  },
  {
   "cell_type": "markdown",
   "id": "83f328c0",
   "metadata": {},
   "source": [
    "## Remplacer les 'None' par une autre valeur pour que ça ne soit pas considéré comme manquant\n",
    "##### nous allons donc dans un premier temps remplacer les données 'NaN' de la colonne 'Sleep Disorder'\n",
    "##### précision nécessaire : la colonne 'Sleep Disorder' est considéré comme notre Target, autrement dit la colonne qui nous sert de référence dans notre analyse des données."
   ]
  },
  {
   "cell_type": "markdown",
   "id": "1bf8a5f9",
   "metadata": {},
   "source": []
  },
  {
   "cell_type": "code",
   "id": "8e7a3cc3",
   "metadata": {
    "ExecuteTime": {
     "end_time": "2024-11-07T19:13:17.335771Z",
     "start_time": "2024-11-07T19:13:17.320774Z"
    }
   },
   "source": [
    "# ici nous allons utiliser la methode 'fillna' et qui vas nous permettre de remplacer les données 'NaN' considérées comme manquantes\n",
    "# par une suite de character, pour l'exemple présent 'Good Sleep'\n",
    "# ensuite nous réutilisons '.isna().sum()' pour vérifier si notre commande précédente c'est exécuté correctement et retourne un resultat NULL\n",
    "df['Sleep Disorder'] = df['Sleep Disorder'].fillna('Good Sleep')\n",
    "df['Sleep Disorder'].isna().sum()"
   ],
   "outputs": [
    {
     "data": {
      "text/plain": [
       "np.int64(0)"
      ]
     },
     "execution_count": 15,
     "metadata": {},
     "output_type": "execute_result"
    }
   ],
   "execution_count": 15
  },
  {
   "cell_type": "markdown",
   "id": "830f51ed",
   "metadata": {},
   "source": [
    "## Drop des colonnes qui ont un pourcentage de valeur manquante supérieur à 20%\n",
    "#### nous définissons dans le cas présent que 20% est un seuil critique à ne pas dépasser, pour qu'une colonne soit utile dans notre analyse de données"
   ]
  },
  {
   "cell_type": "code",
   "id": "c3ce4317",
   "metadata": {
    "ExecuteTime": {
     "end_time": "2024-11-07T19:13:17.351769Z",
     "start_time": "2024-11-07T19:13:17.337771Z"
    }
   },
   "source": [
    "# nous allons donc créer une variable 'threshold' qui retournera un entier par rapport au nombre de ligne du DataFrame multiplier par 0,8\n",
    "# nous mettons ici 0,8 car la commande suivante '.dropna' a pour argument 'thresh'\n",
    "# 'thresh' considère que le parametre qui lui est affecté, est le pourcentage dont il ne doit pas s'occuper , dans le cas present 0,8 représente 80%\n",
    "# alors 'thresh' ne prendra en consideration que les colonnes n'ayant qu'un taux supérieur à 20% de données manquantes\n",
    "# pour finir nous allons utiliser 'df.columns' pour verifier que la colonne 'Temperatur' à bien était supprimé\n",
    "threshold =int(len(df) * 0.8)\n",
    "df = df.dropna(thresh=threshold, axis=1)\n",
    "df.columns"
   ],
   "outputs": [
    {
     "data": {
      "text/plain": [
       "Index(['Gender', 'Age', 'Occupation', 'Sleep Duration', 'Quality of Sleep',\n",
       "       'Physical Activity Level', 'Stress Level', 'BMI Category',\n",
       "       'Blood Pressure', 'Heart Rate', 'Daily Steps', 'Sleep Disorder'],\n",
       "      dtype='object')"
      ]
     },
     "execution_count": 16,
     "metadata": {},
     "output_type": "execute_result"
    }
   ],
   "execution_count": 16
  },
  {
   "cell_type": "markdown",
   "source": [
    "# Traitement de l'anomalie de la colonne 'BMI Category'"
   ],
   "metadata": {
    "collapsed": false
   },
   "id": "bd9888c3f21b8400"
  },
  {
   "cell_type": "markdown",
   "source": [
    "#### En jetant un rapide coup d'oeil à la colonne 'BMI Category', nous pouvons constater que certaines données n'ont pas été correctement orthographiées."
   ],
   "metadata": {
    "collapsed": false
   },
   "id": "6459f8810362668d"
  },
  {
   "cell_type": "code",
   "source": [
    "df['BMI Category'].unique()"
   ],
   "metadata": {
    "collapsed": false,
    "ExecuteTime": {
     "end_time": "2024-11-07T19:13:17.367769Z",
     "start_time": "2024-11-07T19:13:17.352770Z"
    }
   },
   "id": "990e1c8df4755aa1",
   "outputs": [
    {
     "data": {
      "text/plain": [
       "array(['Overweight', 'Normal', 'Obese', 'Norm', 'Normal Weight', 'Norma',\n",
       "       nan], dtype=object)"
      ]
     },
     "execution_count": 17,
     "metadata": {},
     "output_type": "execute_result"
    }
   ],
   "execution_count": 17
  },
  {
   "cell_type": "markdown",
   "source": [
    "### Dans le document que nous a fourni le client, il est bien spécifié que la colonne 'BMI Category' n'est composé que de trois types\n",
    "### 'Underweight', 'Normal' et 'Overweight'\n",
    "### Ce qui nous permet de conclure que les types : 'Norma', 'Norm', 'Normal' et 'NaN'\n",
    "### Sont probablement des fautes de saisie, et correspondent au type 'Normal'"
   ],
   "metadata": {
    "collapsed": false
   },
   "id": "e1c21c3a5da10bd5"
  },
  {
   "cell_type": "markdown",
   "source": [
    "#### Pour ce faire, nous allons utiliser la fonction '.replace' afin que toutes les erreurs de saisie soient corrigées"
   ],
   "metadata": {
    "collapsed": false
   },
   "id": "3c743c170b341bf5"
  },
  {
   "cell_type": "code",
   "source": [
    "df['BMI Category'].replace( {\"Norm\": \"Normal Weight\", \"Norma\": \"Normal Weight\", \"Normal\": \"Normal Weight\", \"Nan\": \"Normal Weight\"}, inplace=True)\n",
    "df['BMI Category'].unique()"
   ],
   "metadata": {
    "collapsed": false,
    "ExecuteTime": {
     "end_time": "2024-11-07T19:13:17.383769Z",
     "start_time": "2024-11-07T19:13:17.368770Z"
    }
   },
   "id": "75c1a3d34ec0e070",
   "outputs": [
    {
     "name": "stderr",
     "output_type": "stream",
     "text": [
      "C:\\Users\\Utilisateur\\AppData\\Local\\Temp\\ipykernel_7476\\2082458035.py:1: FutureWarning: A value is trying to be set on a copy of a DataFrame or Series through chained assignment using an inplace method.\n",
      "The behavior will change in pandas 3.0. This inplace method will never work because the intermediate object on which we are setting values always behaves as a copy.\n",
      "\n",
      "For example, when doing 'df[col].method(value, inplace=True)', try using 'df.method({col: value}, inplace=True)' or df[col] = df[col].method(value) instead, to perform the operation inplace on the original object.\n",
      "\n",
      "\n",
      "  df['BMI Category'].replace( {\"Norm\": \"Normal Weight\", \"Norma\": \"Normal Weight\", \"Normal\": \"Normal Weight\", \"Nan\": \"Normal Weight\"}, inplace=True)\n"
     ]
    },
    {
     "data": {
      "text/plain": [
       "array(['Overweight', 'Normal Weight', 'Obese', nan], dtype=object)"
      ]
     },
     "execution_count": 18,
     "metadata": {},
     "output_type": "execute_result"
    }
   ],
   "execution_count": 18
  },
  {
   "cell_type": "markdown",
   "source": [
    "### Nous observons tout de même que le type 'NaN' est toujours présent !!\n",
    "### Comme nous l'avons vu dans le cas précédent 'NaN' est considéré comme une case vide, appliquons la même méthode que pour 'Sleep Disorder'"
   ],
   "metadata": {
    "collapsed": false
   },
   "id": "f55788e47e11b032"
  },
  {
   "cell_type": "code",
   "source": [
    "df['BMI Category'] = df['BMI Category'].fillna('NaN')\n",
    "df['BMI Category'].replace({\"NaN\": \"Normal Weight\"}, inplace=True)\n",
    "df['BMI Category'].unique()"
   ],
   "metadata": {
    "collapsed": false,
    "ExecuteTime": {
     "end_time": "2024-11-07T19:13:17.399772Z",
     "start_time": "2024-11-07T19:13:17.384770Z"
    }
   },
   "id": "42c64e62f9df85de",
   "outputs": [
    {
     "name": "stderr",
     "output_type": "stream",
     "text": [
      "C:\\Users\\Utilisateur\\AppData\\Local\\Temp\\ipykernel_7476\\1078456907.py:2: FutureWarning: A value is trying to be set on a copy of a DataFrame or Series through chained assignment using an inplace method.\n",
      "The behavior will change in pandas 3.0. This inplace method will never work because the intermediate object on which we are setting values always behaves as a copy.\n",
      "\n",
      "For example, when doing 'df[col].method(value, inplace=True)', try using 'df.method({col: value}, inplace=True)' or df[col] = df[col].method(value) instead, to perform the operation inplace on the original object.\n",
      "\n",
      "\n",
      "  df['BMI Category'].replace({\"NaN\": \"Normal Weight\"}, inplace=True)\n"
     ]
    },
    {
     "data": {
      "text/plain": [
       "array(['Overweight', 'Normal Weight', 'Obese'], dtype=object)"
      ]
     },
     "execution_count": 19,
     "metadata": {},
     "output_type": "execute_result"
    }
   ],
   "execution_count": 19
  },
  {
   "cell_type": "markdown",
   "id": "2ce63dcc",
   "metadata": {},
   "source": [
    "## Revisualisation de la heatmap pour controler le dataframe et les valeurs manquantes"
   ]
  },
  {
   "cell_type": "code",
   "id": "34cd1bfe",
   "metadata": {
    "ExecuteTime": {
     "end_time": "2024-11-07T19:13:17.683769Z",
     "start_time": "2024-11-07T19:13:17.400771Z"
    }
   },
   "source": [
    "plt.figure(figsize=(10,6))\n",
    "heatmaps = sns.heatmap(df.isna(), cmap='cool')\n",
    "plt.show()"
   ],
   "outputs": [
    {
     "data": {
      "text/plain": [
       "<Figure size 1000x600 with 2 Axes>"
      ],
      "image/png": "[encoded data removed]"
     },
     "metadata": {},
     "output_type": "display_data"
    }
   ],
   "execution_count": 20
  },
  {
   "cell_type": "markdown",
   "id": "bfa27e72",
   "metadata": {},
   "source": [
    "## Maintenant que nous avons fini cette étape, je vous propose d'afficher différent type de graphiques en rapport avec notre DataFrame"
   ]
  },
  {
   "cell_type": "markdown",
   "id": "561f3123",
   "metadata": {},
   "source": [
    "### voici une visualisation rapide en histogramme de notre DataFrame"
   ]
  },
  {
   "cell_type": "code",
   "id": "8b8efd05",
   "metadata": {
    "ExecuteTime": {
     "end_time": "2024-11-07T19:13:18.646613Z",
     "start_time": "2024-11-07T19:13:17.684774Z"
    }
   },
   "source": [
    "df.hist(bins=10, figsize=(12, 10))\n",
    "plt.tight_layout()\n",
    "plt.show()"
   ],
   "outputs": [
    {
     "data": {
      "text/plain": [
       "<Figure size 1200x1000 with 9 Axes>"
      ],
      "image/png": "[encoded data removed]"
     },
     "metadata": {},
     "output_type": "display_data"
    }
   ],
   "execution_count": 21
  },
  {
   "cell_type": "markdown",
   "id": "f1aa67e3",
   "metadata": {},
   "source": [
    "### nous pouvons aussi afficher un camembert des types de données qui compose notre DataFrame\n",
    "##### avec les pourcentages au format un entier virgule un entier et le signe pourcentage"
   ]
  },
  {
   "cell_type": "code",
   "id": "0376e3f5",
   "metadata": {
    "ExecuteTime": {
     "end_time": "2024-11-07T19:13:18.724613Z",
     "start_time": "2024-11-07T19:13:18.649614Z"
    }
   },
   "source": [
    "camembert = df.dtypes.value_counts().plot.pie(figsize=(8, 8), autopct=\"%1.1f%%\")"
   ],
   "outputs": [
    {
     "data": {
      "text/plain": [
       "<Figure size 800x800 with 1 Axes>"
      ],
      "image/png": "[encoded data removed]"
     },
     "metadata": {},
     "output_type": "display_data"
    }
   ],
   "execution_count": 22
  },
  {
   "cell_type": "markdown",
   "source": [
    "#### nous pouvons aussi utiliser les boites à moustache comme ci-dessous, mais pas d'inquiétude nous verrons leur utilité plus tard !"
   ],
   "metadata": {
    "collapsed": false
   },
   "id": "a9f0e705ea48e936"
  },
  {
   "cell_type": "code",
   "id": "7790ce9e",
   "metadata": {
    "ExecuteTime": {
     "end_time": "2024-11-07T19:13:19.039623Z",
     "start_time": "2024-11-07T19:13:18.725616Z"
    }
   },
   "source": [
    "sns.boxplot(x=\"Physical Activity Level\", y=\"Sleep Duration\", data=df)\n",
    "plt.xlabel(\"Physical Activity Level\")\n",
    "plt.ylabel(\"Sleep Duration\")\n",
    "plt.title(\"Impact of Physical Activity Level on Sleep Duration\")\n",
    "plt.show()"
   ],
   "outputs": [
    {
     "data": {
      "text/plain": [
       "<Figure size 640x480 with 1 Axes>"
      ],
      "image/png": "[encoded data removed]"
     },
     "metadata": {},
     "output_type": "display_data"
    }
   ],
   "execution_count": 23
  },
  {
   "cell_type": "markdown",
   "id": "97843764",
   "metadata": {},
   "source": [
    "### Aprés ce court moment de fun, reprenons notre analyse en nettoyant les différentes anomalies"
   ]
  },
  {
   "cell_type": "markdown",
   "source": [],
   "metadata": {
    "collapsed": false
   },
   "id": "7604597de2781c52"
  },
  {
   "cell_type": "markdown",
   "source": [
    "# / Nettoyage des colonnes / définition des types de données manquantes /\n",
    "## La colonne 'Age':\n",
    "#### Nous avions pu déterminer lors de notre première phase d'exploration des données que la colonne 'Age' était rangée par ordre croissant\n",
    "#### Ce qui va nous faciliter la tâche pour déterminer la méthode la plus appropriée pour remplir nos données manquantes\n",
    "#### 1-Données manquantes complètement au hasard (Missing Completely At Random - MCAR) :\n",
    "#### Définition : Les valeurs manquantes sont complètement aléatoires et n'ont aucune relation avec les autres variables ou les données manquantes elles-mêmes.\n",
    "### Ca colle plutôt bien au cas de notre colonne 'Age' !!!!\n"
   ],
   "metadata": {
    "collapsed": false
   },
   "id": "cf7a335c79fb371f"
  },
  {
   "cell_type": "markdown",
   "id": "5331d81b",
   "metadata": {},
   "source": [
    "## Remplir les valeurs manquantes de la colonne 'AGE' avec la valeur non manquantes la plus proche !\n",
    "#### Nous allons donc utiliser la méthode 'bfill' pour remplir les valeurs manquantes avec la valeur suivante disponible dans la colonne.\n",
    "#### Cette approche est utile lorsque les données présentent une certaine séquence ou une sorte de relation ordonnée.\n",
    "#### En utilisant 'bfill', les valeurs manquantes sont remplacées par des valeurs existantes qui suivent généralement un certain modèle ou une certaine tendance.\n",
    "## Et comme nous avons pris l'habitude de le faire ont fini par '.isna().sum()' pour vérifier que nos valeurs manquantes ont bien été remplies."
   ]
  },
  {
   "cell_type": "code",
   "source": [
    "df['Age'].isna().sum()"
   ],
   "metadata": {
    "collapsed": false,
    "ExecuteTime": {
     "end_time": "2024-11-07T19:13:19.055623Z",
     "start_time": "2024-11-07T19:13:19.040625Z"
    }
   },
   "id": "fc2012161a55cdc7",
   "outputs": [
    {
     "data": {
      "text/plain": [
       "np.int64(5)"
      ]
     },
     "execution_count": 24,
     "metadata": {},
     "output_type": "execute_result"
    }
   ],
   "execution_count": 24
  },
  {
   "cell_type": "code",
   "id": "7e23ca2d",
   "metadata": {
    "ExecuteTime": {
     "end_time": "2024-11-07T19:13:19.071624Z",
     "start_time": "2024-11-07T19:13:19.056624Z"
    }
   },
   "source": [
    "df['Age'] = df['Age'].fillna(method='bfill')\n",
    "df['Age'].isna().sum()"
   ],
   "outputs": [
    {
     "name": "stderr",
     "output_type": "stream",
     "text": [
      "C:\\Users\\Utilisateur\\AppData\\Local\\Temp\\ipykernel_7476\\3938232014.py:1: FutureWarning: Series.fillna with 'method' is deprecated and will raise in a future version. Use obj.ffill() or obj.bfill() instead.\n",
      "  df['Age'] = df['Age'].fillna(method='bfill')\n"
     ]
    },
    {
     "data": {
      "text/plain": [
       "np.int64(0)"
      ]
     },
     "execution_count": 25,
     "metadata": {},
     "output_type": "execute_result"
    }
   ],
   "execution_count": 25
  },
  {
   "cell_type": "markdown",
   "source": [
    "# La colonne 'Gender':"
   ],
   "metadata": {
    "collapsed": false
   },
   "id": "59f2ab685e7c8199"
  },
  {
   "cell_type": "markdown",
   "id": "24f3c275",
   "metadata": {},
   "source": [
    "### Commençons par déterminer le nombre de valeurs manquantes dans la colonne 'Gender'"
   ]
  },
  {
   "cell_type": "code",
   "id": "88707deb",
   "metadata": {
    "ExecuteTime": {
     "end_time": "2024-11-07T19:13:19.087623Z",
     "start_time": "2024-11-07T19:13:19.072623Z"
    }
   },
   "source": [
    "df['Gender'].isna().sum()"
   ],
   "outputs": [
    {
     "data": {
      "text/plain": [
       "np.int64(4)"
      ]
     },
     "execution_count": 26,
     "metadata": {},
     "output_type": "execute_result"
    }
   ],
   "execution_count": 26
  },
  {
   "cell_type": "markdown",
   "id": "7aff8433",
   "metadata": {},
   "source": [
    "## Pour cette étape, nous allons appliquer une autre méthode de recherche qui va nous permettre de visualiser les lignes qui contiennent des valeurs manquantes de la colonne 'Gender'\n",
    "#### Cette fonction est utile lorsque nous souhaitons filtrer ou manipuler spécifiquement les lignes avec des valeurs manquantes dans une colonne donnée.\n",
    "#### Nous pouvons ensuite utiliser ce sous-ensemble de données pour des analyses spécifiques ou pour traiter les valeurs manquantes d'une manière particulière."
   ]
  },
  {
   "cell_type": "code",
   "id": "ffdebca2",
   "metadata": {
    "ExecuteTime": {
     "end_time": "2024-11-07T19:13:19.103622Z",
     "start_time": "2024-11-07T19:13:19.088625Z"
    }
   },
   "source": [
    "df.loc[df['Gender'].isna()]"
   ],
   "outputs": [
    {
     "data": {
      "text/plain": [
       "    Gender   Age  Occupation  Sleep Duration  Quality of Sleep  \\\n",
       "12     NaN  29.0      Doctor             6.1               6.0   \n",
       "161    NaN  40.0  Accountant             7.2               8.0   \n",
       "171    NaN  41.0      Lawyer             7.7               8.0   \n",
       "338    NaN  54.0    Engineer             8.5               9.0   \n",
       "\n",
       "     Physical Activity Level  Stress Level   BMI Category Blood Pressure  \\\n",
       "12                      30.0           8.0  Normal Weight         120/80   \n",
       "161                     55.0           6.0  Normal Weight         119/77   \n",
       "171                     90.0           NaN  Normal Weight         130/85   \n",
       "338                     30.0           3.0  Normal Weight         125/80   \n",
       "\n",
       "     Heart Rate  Daily Steps Sleep Disorder  \n",
       "12         70.0       8000.0     Good Sleep  \n",
       "161        73.0       7300.0     Good Sleep  \n",
       "171        70.0       8000.0     Good Sleep  \n",
       "338        65.0       5000.0     Good Sleep  "
      ],
      "text/html": [
       "<div>\n",
       "<style scoped>\n",
       "    .dataframe tbody tr th:only-of-type {\n",
       "        vertical-align: middle;\n",
       "    }\n",
       "\n",
       "    .dataframe tbody tr th {\n",
       "        vertical-align: top;\n",
       "    }\n",
       "\n",
       "    .dataframe thead th {\n",
       "        text-align: right;\n",
       "    }\n",
       "</style>\n",
       "<table border=\"1\" class=\"dataframe\">\n",
       "  <thead>\n",
       "    <tr style=\"text-align: right;\">\n",
       "      <th></th>\n",
       "      <th>Gender</th>\n",
       "      <th>Age</th>\n",
       "      <th>Occupation</th>\n",
       "      <th>Sleep Duration</th>\n",
       "      <th>Quality of Sleep</th>\n",
       "      <th>Physical Activity Level</th>\n",
       "      <th>Stress Level</th>\n",
       "      <th>BMI Category</th>\n",
       "      <th>Blood Pressure</th>\n",
       "      <th>Heart Rate</th>\n",
       "      <th>Daily Steps</th>\n",
       "      <th>Sleep Disorder</th>\n",
       "    </tr>\n",
       "  </thead>\n",
       "  <tbody>\n",
       "    <tr>\n",
       "      <th>12</th>\n",
       "      <td>NaN</td>\n",
       "      <td>29.0</td>\n",
       "      <td>Doctor</td>\n",
       "      <td>6.1</td>\n",
       "      <td>6.0</td>\n",
       "      <td>30.0</td>\n",
       "      <td>8.0</td>\n",
       "      <td>Normal Weight</td>\n",
       "      <td>120/80</td>\n",
       "      <td>70.0</td>\n",
       "      <td>8000.0</td>\n",
       "      <td>Good Sleep</td>\n",
       "    </tr>\n",
       "    <tr>\n",
       "      <th>161</th>\n",
       "      <td>NaN</td>\n",
       "      <td>40.0</td>\n",
       "      <td>Accountant</td>\n",
       "      <td>7.2</td>\n",
       "      <td>8.0</td>\n",
       "      <td>55.0</td>\n",
       "      <td>6.0</td>\n",
       "      <td>Normal Weight</td>\n",
       "      <td>119/77</td>\n",
       "      <td>73.0</td>\n",
       "      <td>7300.0</td>\n",
       "      <td>Good Sleep</td>\n",
       "    </tr>\n",
       "    <tr>\n",
       "      <th>171</th>\n",
       "      <td>NaN</td>\n",
       "      <td>41.0</td>\n",
       "      <td>Lawyer</td>\n",
       "      <td>7.7</td>\n",
       "      <td>8.0</td>\n",
       "      <td>90.0</td>\n",
       "      <td>NaN</td>\n",
       "      <td>Normal Weight</td>\n",
       "      <td>130/85</td>\n",
       "      <td>70.0</td>\n",
       "      <td>8000.0</td>\n",
       "      <td>Good Sleep</td>\n",
       "    </tr>\n",
       "    <tr>\n",
       "      <th>338</th>\n",
       "      <td>NaN</td>\n",
       "      <td>54.0</td>\n",
       "      <td>Engineer</td>\n",
       "      <td>8.5</td>\n",
       "      <td>9.0</td>\n",
       "      <td>30.0</td>\n",
       "      <td>3.0</td>\n",
       "      <td>Normal Weight</td>\n",
       "      <td>125/80</td>\n",
       "      <td>65.0</td>\n",
       "      <td>5000.0</td>\n",
       "      <td>Good Sleep</td>\n",
       "    </tr>\n",
       "  </tbody>\n",
       "</table>\n",
       "</div>"
      ]
     },
     "execution_count": 27,
     "metadata": {},
     "output_type": "execute_result"
    }
   ],
   "execution_count": 27
  },
  {
   "cell_type": "markdown",
   "id": "87f0c557",
   "metadata": {},
   "source": [
    "#### Ce que le tableau nous permet de déduire, c'est nous avons à faire :\n",
    "#### Des données manquantes au hasard (Missing At Random - MAR) :\n",
    "##### Définition : Les valeurs manquantes sont conditionnellement aléatoires, c'est-à-dire qu'elles dépendent d'autres variables observées, mais pas des valeurs manquantes elles-mêmes.\n",
    "#### Nous décidons de remplir les valeurs manquantes ( valeurs catégorielles ) par le mode.\n",
    "#### Imputation par le mode (mode imputation) :\n",
    "##### Définition : Remplacer les valeurs manquantes par le mode (la valeur la plus fréquente) des valeurs observées dans la même variable.\n",
    "###### je sais que ça beaucoup de definition d'un coup, accrochez-vous !!"
   ]
  },
  {
   "cell_type": "code",
   "id": "f3ed6e0b",
   "metadata": {
    "ExecuteTime": {
     "end_time": "2024-11-07T19:13:59.425409Z",
     "start_time": "2024-11-07T19:13:59.406409Z"
    }
   },
   "source": [
    "df['Gender'].fillna(df['Gender'].mode()[0], inplace=True)\n",
    "df['Gender'].isna().sum()"
   ],
   "outputs": [
    {
     "name": "stderr",
     "output_type": "stream",
     "text": [
      "C:\\Users\\Utilisateur\\AppData\\Local\\Temp\\ipykernel_7476\\3094062768.py:1: FutureWarning: A value is trying to be set on a copy of a DataFrame or Series through chained assignment using an inplace method.\n",
      "The behavior will change in pandas 3.0. This inplace method will never work because the intermediate object on which we are setting values always behaves as a copy.\n",
      "\n",
      "For example, when doing 'df[col].method(value, inplace=True)', try using 'df.method({col: value}, inplace=True)' or df[col] = df[col].method(value) instead, to perform the operation inplace on the original object.\n",
      "\n",
      "\n",
      "  df['Gender'].fillna(df['Gender'].mode()[0], inplace=True)\n"
     ]
    },
    {
     "data": {
      "text/plain": [
       "np.int64(0)"
      ]
     },
     "execution_count": 49,
     "metadata": {},
     "output_type": "execute_result"
    }
   ],
   "execution_count": 49
  },
  {
   "cell_type": "markdown",
   "source": [
    "# La colonne 'Occupation':"
   ],
   "metadata": {
    "collapsed": false
   },
   "id": "c12823f35b805524"
  },
  {
   "cell_type": "markdown",
   "id": "08f85dd6",
   "metadata": {},
   "source": [
    "### Nous allons maintenant devoir determiner une méthode pour remplacer les valeurs manquantes de la colonne 'Occupation'\n",
    "#### Pour commencer le nombre de valeurs manquantes dans la colonne 'Occupation'"
   ]
  },
  {
   "cell_type": "code",
   "id": "317d7b4d",
   "metadata": {
    "ExecuteTime": {
     "end_time": "2024-11-07T19:13:19.135622Z",
     "start_time": "2024-11-07T19:13:19.120625Z"
    }
   },
   "source": [
    "df['Occupation'].isna().sum()"
   ],
   "outputs": [
    {
     "data": {
      "text/plain": [
       "np.int64(8)"
      ]
     },
     "execution_count": 29,
     "metadata": {},
     "output_type": "execute_result"
    }
   ],
   "execution_count": 29
  },
  {
   "cell_type": "markdown",
   "source": [
    "#### Pour cette prochaine étape, puisque la colonne est celle des métiers, nous cherchons à obtenir, quel métier revient le plus dans notre base de données ?\n",
    "#### nous allons donc utiliser la méthode '.value_counts()' pour connaitre le nombre d'occurrences par métier."
   ],
   "metadata": {
    "collapsed": false
   },
   "id": "918db4cd2c866b16"
  },
  {
   "cell_type": "code",
   "id": "f5850f83",
   "metadata": {
    "ExecuteTime": {
     "end_time": "2024-11-07T19:13:19.151622Z",
     "start_time": "2024-11-07T19:13:19.136625Z"
    }
   },
   "source": [
    "df['Occupation'].value_counts()"
   ],
   "outputs": [
    {
     "data": {
      "text/plain": [
       "Occupation\n",
       "Doctor                  63\n",
       "Nurse                   53\n",
       "Engineer                39\n",
       "Lawyer                  31\n",
       "Teacher                 28\n",
       "Accountant              23\n",
       "Salesperson             16\n",
       "Scientist                4\n",
       "Software Engineer        4\n",
       "Sales Representative     2\n",
       "Manager                  1\n",
       "Name: count, dtype: int64"
      ]
     },
     "execution_count": 30,
     "metadata": {},
     "output_type": "execute_result"
    }
   ],
   "execution_count": 30
  },
  {
   "cell_type": "markdown",
   "source": [
    "##### On remarque que les métiers de Docteur et d'infirmière sont majoritaires dans notre base de données."
   ],
   "metadata": {
    "collapsed": false
   },
   "id": "b6354199282b5c24"
  },
  {
   "cell_type": "markdown",
   "source": [
    "#### Nous allons appliquer la même méthode que pour la colonne 'Gender', afin d'observer si l'on peut faire des liens avec d'autres colonnes de notre base données."
   ],
   "metadata": {
    "collapsed": false
   },
   "id": "90ccbb7bdef6770c"
  },
  {
   "cell_type": "code",
   "id": "3f1ba91d",
   "metadata": {
    "ExecuteTime": {
     "end_time": "2024-11-07T19:13:19.167623Z",
     "start_time": "2024-11-07T19:13:19.152625Z"
    }
   },
   "source": [
    "df.loc[df['Occupation'].isna()]"
   ],
   "outputs": [
    {
     "data": {
      "text/plain": [
       "     Gender   Age Occupation  Sleep Duration  Quality of Sleep  \\\n",
       "83     Male  35.0        NaN             6.7               7.0   \n",
       "90     Male  35.0        NaN             7.3               8.0   \n",
       "137    Male  38.0        NaN             7.1               8.0   \n",
       "170    Male  41.0        NaN             7.7               8.0   \n",
       "217    Male  43.0        NaN             7.8               8.0   \n",
       "245  Female  44.0        NaN             6.5               7.0   \n",
       "271  Female  49.0        NaN             6.1               6.0   \n",
       "327  Female  53.0        NaN             8.5               9.0   \n",
       "\n",
       "     Physical Activity Level  Stress Level   BMI Category Blood Pressure  \\\n",
       "83                      40.0           5.0     Overweight         128/84   \n",
       "90                      60.0           4.0  Normal Weight         125/80   \n",
       "137                     60.0           5.0  Normal Weight         130/85   \n",
       "170                     90.0           5.0  Normal Weight         130/85   \n",
       "217                     90.0           5.0  Normal Weight         130/85   \n",
       "245                     45.0           4.0     Overweight         135/90   \n",
       "271                     90.0           8.0     Overweight         140/95   \n",
       "327                     30.0           3.0  Normal Weight         125/80   \n",
       "\n",
       "     Heart Rate  Daily Steps Sleep Disorder  \n",
       "83         70.0       5600.0     Good Sleep  \n",
       "90         65.0       5000.0     Good Sleep  \n",
       "137        68.0       8000.0     Good Sleep  \n",
       "170        70.0       8000.0     Good Sleep  \n",
       "217        70.0       8000.0     Good Sleep  \n",
       "245        65.0       6000.0       Insomnia  \n",
       "271        75.0      10000.0    Sleep Apnea  \n",
       "327        65.0       5000.0     Good Sleep  "
      ],
      "text/html": [
       "<div>\n",
       "<style scoped>\n",
       "    .dataframe tbody tr th:only-of-type {\n",
       "        vertical-align: middle;\n",
       "    }\n",
       "\n",
       "    .dataframe tbody tr th {\n",
       "        vertical-align: top;\n",
       "    }\n",
       "\n",
       "    .dataframe thead th {\n",
       "        text-align: right;\n",
       "    }\n",
       "</style>\n",
       "<table border=\"1\" class=\"dataframe\">\n",
       "  <thead>\n",
       "    <tr style=\"text-align: right;\">\n",
       "      <th></th>\n",
       "      <th>Gender</th>\n",
       "      <th>Age</th>\n",
       "      <th>Occupation</th>\n",
       "      <th>Sleep Duration</th>\n",
       "      <th>Quality of Sleep</th>\n",
       "      <th>Physical Activity Level</th>\n",
       "      <th>Stress Level</th>\n",
       "      <th>BMI Category</th>\n",
       "      <th>Blood Pressure</th>\n",
       "      <th>Heart Rate</th>\n",
       "      <th>Daily Steps</th>\n",
       "      <th>Sleep Disorder</th>\n",
       "    </tr>\n",
       "  </thead>\n",
       "  <tbody>\n",
       "    <tr>\n",
       "      <th>83</th>\n",
       "      <td>Male</td>\n",
       "      <td>35.0</td>\n",
       "      <td>NaN</td>\n",
       "      <td>6.7</td>\n",
       "      <td>7.0</td>\n",
       "      <td>40.0</td>\n",
       "      <td>5.0</td>\n",
       "      <td>Overweight</td>\n",
       "      <td>128/84</td>\n",
       "      <td>70.0</td>\n",
       "      <td>5600.0</td>\n",
       "      <td>Good Sleep</td>\n",
       "    </tr>\n",
       "    <tr>\n",
       "      <th>90</th>\n",
       "      <td>Male</td>\n",
       "      <td>35.0</td>\n",
       "      <td>NaN</td>\n",
       "      <td>7.3</td>\n",
       "      <td>8.0</td>\n",
       "      <td>60.0</td>\n",
       "      <td>4.0</td>\n",
       "      <td>Normal Weight</td>\n",
       "      <td>125/80</td>\n",
       "      <td>65.0</td>\n",
       "      <td>5000.0</td>\n",
       "      <td>Good Sleep</td>\n",
       "    </tr>\n",
       "    <tr>\n",
       "      <th>137</th>\n",
       "      <td>Male</td>\n",
       "      <td>38.0</td>\n",
       "      <td>NaN</td>\n",
       "      <td>7.1</td>\n",
       "      <td>8.0</td>\n",
       "      <td>60.0</td>\n",
       "      <td>5.0</td>\n",
       "      <td>Normal Weight</td>\n",
       "      <td>130/85</td>\n",
       "      <td>68.0</td>\n",
       "      <td>8000.0</td>\n",
       "      <td>Good Sleep</td>\n",
       "    </tr>\n",
       "    <tr>\n",
       "      <th>170</th>\n",
       "      <td>Male</td>\n",
       "      <td>41.0</td>\n",
       "      <td>NaN</td>\n",
       "      <td>7.7</td>\n",
       "      <td>8.0</td>\n",
       "      <td>90.0</td>\n",
       "      <td>5.0</td>\n",
       "      <td>Normal Weight</td>\n",
       "      <td>130/85</td>\n",
       "      <td>70.0</td>\n",
       "      <td>8000.0</td>\n",
       "      <td>Good Sleep</td>\n",
       "    </tr>\n",
       "    <tr>\n",
       "      <th>217</th>\n",
       "      <td>Male</td>\n",
       "      <td>43.0</td>\n",
       "      <td>NaN</td>\n",
       "      <td>7.8</td>\n",
       "      <td>8.0</td>\n",
       "      <td>90.0</td>\n",
       "      <td>5.0</td>\n",
       "      <td>Normal Weight</td>\n",
       "      <td>130/85</td>\n",
       "      <td>70.0</td>\n",
       "      <td>8000.0</td>\n",
       "      <td>Good Sleep</td>\n",
       "    </tr>\n",
       "    <tr>\n",
       "      <th>245</th>\n",
       "      <td>Female</td>\n",
       "      <td>44.0</td>\n",
       "      <td>NaN</td>\n",
       "      <td>6.5</td>\n",
       "      <td>7.0</td>\n",
       "      <td>45.0</td>\n",
       "      <td>4.0</td>\n",
       "      <td>Overweight</td>\n",
       "      <td>135/90</td>\n",
       "      <td>65.0</td>\n",
       "      <td>6000.0</td>\n",
       "      <td>Insomnia</td>\n",
       "    </tr>\n",
       "    <tr>\n",
       "      <th>271</th>\n",
       "      <td>Female</td>\n",
       "      <td>49.0</td>\n",
       "      <td>NaN</td>\n",
       "      <td>6.1</td>\n",
       "      <td>6.0</td>\n",
       "      <td>90.0</td>\n",
       "      <td>8.0</td>\n",
       "      <td>Overweight</td>\n",
       "      <td>140/95</td>\n",
       "      <td>75.0</td>\n",
       "      <td>10000.0</td>\n",
       "      <td>Sleep Apnea</td>\n",
       "    </tr>\n",
       "    <tr>\n",
       "      <th>327</th>\n",
       "      <td>Female</td>\n",
       "      <td>53.0</td>\n",
       "      <td>NaN</td>\n",
       "      <td>8.5</td>\n",
       "      <td>9.0</td>\n",
       "      <td>30.0</td>\n",
       "      <td>3.0</td>\n",
       "      <td>Normal Weight</td>\n",
       "      <td>125/80</td>\n",
       "      <td>65.0</td>\n",
       "      <td>5000.0</td>\n",
       "      <td>Good Sleep</td>\n",
       "    </tr>\n",
       "  </tbody>\n",
       "</table>\n",
       "</div>"
      ]
     },
     "execution_count": 31,
     "metadata": {},
     "output_type": "execute_result"
    }
   ],
   "execution_count": 31
  },
  {
   "cell_type": "markdown",
   "source": [
    "#### Nous observons qu'il n'y a pas de correspondance évidente avec les autres colonnes, sauf celle de 'Gender' qui pourrait être notre meilleure option.\n",
    "#### Nous décidons donc de créer un lien plausible entre les résultats de nos deux derniers tableaux. ( les métiers / le genre )."
   ],
   "metadata": {
    "collapsed": false
   },
   "id": "528a772a1efcb8ea"
  },
  {
   "cell_type": "markdown",
   "source": [
    "#### Dans la fonction suivante, nous allons utiliser la méthode 'groupby' pour nous permettre de regrouper les données en fonction de chaque groupe de la colonne 'Gender' et de trouver la valeur la plus fréquente de la colonne 'Occupation'.\n",
    "#### Et grâce à la fonction 'lambda' cela nous permet de retourner la valeur la plus fréquente des colonnes 'Gender' et 'Occupation'."
   ],
   "metadata": {
    "collapsed": false
   },
   "id": "ab3ad059a0852a37"
  },
  {
   "cell_type": "code",
   "id": "3e5e2990",
   "metadata": {
    "ExecuteTime": {
     "end_time": "2024-11-07T19:13:19.183623Z",
     "start_time": "2024-11-07T19:13:19.168623Z"
    }
   },
   "source": [
    "gender_occupation = df.groupby('Gender')['Occupation'].apply(lambda x: x.mode()[0])\n",
    "gender_occupation"
   ],
   "outputs": [
    {
     "data": {
      "text/plain": [
       "Gender\n",
       "Female     Nurse\n",
       "Male      Doctor\n",
       "Name: Occupation, dtype: object"
      ]
     },
     "execution_count": 32,
     "metadata": {},
     "output_type": "execute_result"
    }
   ],
   "execution_count": 32
  },
  {
   "cell_type": "markdown",
   "source": [
    "### Nous remarquons par ce resultat que les tendances dans la base de données sont que:\n",
    "#### Les hommes sont majoritairement des docteurs.\n",
    "#### Et que les femmes sont majoritairement des infirmières.\n",
    "### Reprenons maintenant notre fonction d'exploration, mais un peu différemment, en rajoutant '.index' à la fin, pour nous permettre de récupérer les index\n",
    "### Des données manquantes, c'est une autre méthode de vérification, comme nous le verrons ensuite."
   ],
   "metadata": {
    "collapsed": false
   },
   "id": "416d95e1178b8bf9"
  },
  {
   "cell_type": "code",
   "id": "c82112d7",
   "metadata": {
    "ExecuteTime": {
     "end_time": "2024-11-07T19:13:19.199241Z",
     "start_time": "2024-11-07T19:13:19.185624Z"
    }
   },
   "source": [
    "df.loc[df['Occupation'].isna()].index"
   ],
   "outputs": [
    {
     "data": {
      "text/plain": [
       "Index([83, 90, 137, 170, 217, 245, 271, 327], dtype='int64')"
      ]
     },
     "execution_count": 33,
     "metadata": {},
     "output_type": "execute_result"
    }
   ],
   "execution_count": 33
  },
  {
   "cell_type": "markdown",
   "source": [
    "#### Ceci fait !! Nous allons continuer avec notre fonction 'groupby', mais cette fois-ci, nous appliquerons la méthode '.transform' pour appliquer notre précédent résultat\n",
    "#### Et utiliser les index de nos données manquantes pour vérifier qu'elles ont bien été remplacées."
   ],
   "metadata": {
    "collapsed": false
   },
   "id": "7a45aaa01b81e7d4"
  },
  {
   "cell_type": "code",
   "id": "d1a625f2",
   "metadata": {
    "ExecuteTime": {
     "end_time": "2024-11-07T19:13:19.215244Z",
     "start_time": "2024-11-07T19:13:19.200242Z"
    }
   },
   "source": [
    "df['Occupation'] = df.groupby('Gender')['Occupation'].transform(lambda x: x.fillna(x.mode()[0]))\n",
    "df.loc[[83, 90, 137, 170, 217, 245, 271, 327]]"
   ],
   "outputs": [
    {
     "data": {
      "text/plain": [
       "     Gender   Age Occupation  Sleep Duration  Quality of Sleep  \\\n",
       "83     Male  35.0     Doctor             6.7               7.0   \n",
       "90     Male  35.0     Doctor             7.3               8.0   \n",
       "137    Male  38.0     Doctor             7.1               8.0   \n",
       "170    Male  41.0     Doctor             7.7               8.0   \n",
       "217    Male  43.0     Doctor             7.8               8.0   \n",
       "245  Female  44.0      Nurse             6.5               7.0   \n",
       "271  Female  49.0      Nurse             6.1               6.0   \n",
       "327  Female  53.0      Nurse             8.5               9.0   \n",
       "\n",
       "     Physical Activity Level  Stress Level   BMI Category Blood Pressure  \\\n",
       "83                      40.0           5.0     Overweight         128/84   \n",
       "90                      60.0           4.0  Normal Weight         125/80   \n",
       "137                     60.0           5.0  Normal Weight         130/85   \n",
       "170                     90.0           5.0  Normal Weight         130/85   \n",
       "217                     90.0           5.0  Normal Weight         130/85   \n",
       "245                     45.0           4.0     Overweight         135/90   \n",
       "271                     90.0           8.0     Overweight         140/95   \n",
       "327                     30.0           3.0  Normal Weight         125/80   \n",
       "\n",
       "     Heart Rate  Daily Steps Sleep Disorder  \n",
       "83         70.0       5600.0     Good Sleep  \n",
       "90         65.0       5000.0     Good Sleep  \n",
       "137        68.0       8000.0     Good Sleep  \n",
       "170        70.0       8000.0     Good Sleep  \n",
       "217        70.0       8000.0     Good Sleep  \n",
       "245        65.0       6000.0       Insomnia  \n",
       "271        75.0      10000.0    Sleep Apnea  \n",
       "327        65.0       5000.0     Good Sleep  "
      ],
      "text/html": [
       "<div>\n",
       "<style scoped>\n",
       "    .dataframe tbody tr th:only-of-type {\n",
       "        vertical-align: middle;\n",
       "    }\n",
       "\n",
       "    .dataframe tbody tr th {\n",
       "        vertical-align: top;\n",
       "    }\n",
       "\n",
       "    .dataframe thead th {\n",
       "        text-align: right;\n",
       "    }\n",
       "</style>\n",
       "<table border=\"1\" class=\"dataframe\">\n",
       "  <thead>\n",
       "    <tr style=\"text-align: right;\">\n",
       "      <th></th>\n",
       "      <th>Gender</th>\n",
       "      <th>Age</th>\n",
       "      <th>Occupation</th>\n",
       "      <th>Sleep Duration</th>\n",
       "      <th>Quality of Sleep</th>\n",
       "      <th>Physical Activity Level</th>\n",
       "      <th>Stress Level</th>\n",
       "      <th>BMI Category</th>\n",
       "      <th>Blood Pressure</th>\n",
       "      <th>Heart Rate</th>\n",
       "      <th>Daily Steps</th>\n",
       "      <th>Sleep Disorder</th>\n",
       "    </tr>\n",
       "  </thead>\n",
       "  <tbody>\n",
       "    <tr>\n",
       "      <th>83</th>\n",
       "      <td>Male</td>\n",
       "      <td>35.0</td>\n",
       "      <td>Doctor</td>\n",
       "      <td>6.7</td>\n",
       "      <td>7.0</td>\n",
       "      <td>40.0</td>\n",
       "      <td>5.0</td>\n",
       "      <td>Overweight</td>\n",
       "      <td>128/84</td>\n",
       "      <td>70.0</td>\n",
       "      <td>5600.0</td>\n",
       "      <td>Good Sleep</td>\n",
       "    </tr>\n",
       "    <tr>\n",
       "      <th>90</th>\n",
       "      <td>Male</td>\n",
       "      <td>35.0</td>\n",
       "      <td>Doctor</td>\n",
       "      <td>7.3</td>\n",
       "      <td>8.0</td>\n",
       "      <td>60.0</td>\n",
       "      <td>4.0</td>\n",
       "      <td>Normal Weight</td>\n",
       "      <td>125/80</td>\n",
       "      <td>65.0</td>\n",
       "      <td>5000.0</td>\n",
       "      <td>Good Sleep</td>\n",
       "    </tr>\n",
       "    <tr>\n",
       "      <th>137</th>\n",
       "      <td>Male</td>\n",
       "      <td>38.0</td>\n",
       "      <td>Doctor</td>\n",
       "      <td>7.1</td>\n",
       "      <td>8.0</td>\n",
       "      <td>60.0</td>\n",
       "      <td>5.0</td>\n",
       "      <td>Normal Weight</td>\n",
       "      <td>130/85</td>\n",
       "      <td>68.0</td>\n",
       "      <td>8000.0</td>\n",
       "      <td>Good Sleep</td>\n",
       "    </tr>\n",
       "    <tr>\n",
       "      <th>170</th>\n",
       "      <td>Male</td>\n",
       "      <td>41.0</td>\n",
       "      <td>Doctor</td>\n",
       "      <td>7.7</td>\n",
       "      <td>8.0</td>\n",
       "      <td>90.0</td>\n",
       "      <td>5.0</td>\n",
       "      <td>Normal Weight</td>\n",
       "      <td>130/85</td>\n",
       "      <td>70.0</td>\n",
       "      <td>8000.0</td>\n",
       "      <td>Good Sleep</td>\n",
       "    </tr>\n",
       "    <tr>\n",
       "      <th>217</th>\n",
       "      <td>Male</td>\n",
       "      <td>43.0</td>\n",
       "      <td>Doctor</td>\n",
       "      <td>7.8</td>\n",
       "      <td>8.0</td>\n",
       "      <td>90.0</td>\n",
       "      <td>5.0</td>\n",
       "      <td>Normal Weight</td>\n",
       "      <td>130/85</td>\n",
       "      <td>70.0</td>\n",
       "      <td>8000.0</td>\n",
       "      <td>Good Sleep</td>\n",
       "    </tr>\n",
       "    <tr>\n",
       "      <th>245</th>\n",
       "      <td>Female</td>\n",
       "      <td>44.0</td>\n",
       "      <td>Nurse</td>\n",
       "      <td>6.5</td>\n",
       "      <td>7.0</td>\n",
       "      <td>45.0</td>\n",
       "      <td>4.0</td>\n",
       "      <td>Overweight</td>\n",
       "      <td>135/90</td>\n",
       "      <td>65.0</td>\n",
       "      <td>6000.0</td>\n",
       "      <td>Insomnia</td>\n",
       "    </tr>\n",
       "    <tr>\n",
       "      <th>271</th>\n",
       "      <td>Female</td>\n",
       "      <td>49.0</td>\n",
       "      <td>Nurse</td>\n",
       "      <td>6.1</td>\n",
       "      <td>6.0</td>\n",
       "      <td>90.0</td>\n",
       "      <td>8.0</td>\n",
       "      <td>Overweight</td>\n",
       "      <td>140/95</td>\n",
       "      <td>75.0</td>\n",
       "      <td>10000.0</td>\n",
       "      <td>Sleep Apnea</td>\n",
       "    </tr>\n",
       "    <tr>\n",
       "      <th>327</th>\n",
       "      <td>Female</td>\n",
       "      <td>53.0</td>\n",
       "      <td>Nurse</td>\n",
       "      <td>8.5</td>\n",
       "      <td>9.0</td>\n",
       "      <td>30.0</td>\n",
       "      <td>3.0</td>\n",
       "      <td>Normal Weight</td>\n",
       "      <td>125/80</td>\n",
       "      <td>65.0</td>\n",
       "      <td>5000.0</td>\n",
       "      <td>Good Sleep</td>\n",
       "    </tr>\n",
       "  </tbody>\n",
       "</table>\n",
       "</div>"
      ]
     },
     "execution_count": 34,
     "metadata": {},
     "output_type": "execute_result"
    }
   ],
   "execution_count": 34
  },
  {
   "cell_type": "markdown",
   "source": [
    "# Faisons une petite pause, pour voir où nous en sommes !!\n",
    "###### C'est important de prendre un peu de recul"
   ],
   "metadata": {
    "collapsed": false
   },
   "id": "201043da4e7cbb5e"
  },
  {
   "cell_type": "markdown",
   "source": [
    "#### Affichons simplement la somme des données manquantes de nos colonnes."
   ],
   "metadata": {
    "collapsed": false
   },
   "id": "198865f3f1484e9"
  },
  {
   "cell_type": "code",
   "id": "ad29c12a",
   "metadata": {
    "ExecuteTime": {
     "end_time": "2024-11-07T19:13:19.231242Z",
     "start_time": "2024-11-07T19:13:19.216243Z"
    }
   },
   "source": [
    "df.isna().sum()"
   ],
   "outputs": [
    {
     "data": {
      "text/plain": [
       "Gender                      0\n",
       "Age                         0\n",
       "Occupation                  0\n",
       "Sleep Duration              6\n",
       "Quality of Sleep            3\n",
       "Physical Activity Level     5\n",
       "Stress Level                4\n",
       "BMI Category                0\n",
       "Blood Pressure              7\n",
       "Heart Rate                 10\n",
       "Daily Steps                 3\n",
       "Sleep Disorder              0\n",
       "dtype: int64"
      ]
     },
     "execution_count": 35,
     "metadata": {},
     "output_type": "execute_result"
    }
   ],
   "execution_count": 35
  },
  {
   "cell_type": "markdown",
   "source": [
    "#### Allez la Heatmap, ça fait longtemps !"
   ],
   "metadata": {
    "collapsed": false
   },
   "id": "bdfa6fd4900016"
  },
  {
   "cell_type": "code",
   "source": [
    "plt.figure(figsize=(10,6))\n",
    "heatmaps = sns.heatmap(df.isna(), cmap='cool')\n",
    "plt.show()"
   ],
   "metadata": {
    "collapsed": false,
    "ExecuteTime": {
     "end_time": "2024-11-07T19:13:19.518242Z",
     "start_time": "2024-11-07T19:13:19.232245Z"
    }
   },
   "id": "973d33956f89f7cc",
   "outputs": [
    {
     "data": {
      "text/plain": [
       "<Figure size 1000x600 with 2 Axes>"
      ],
      "image/png": "[encoded data removed]"
     },
     "metadata": {},
     "output_type": "display_data"
    }
   ],
   "execution_count": 36
  },
  {
   "cell_type": "markdown",
   "source": [
    "## Mes félicitations ça avance bien !!\n",
    "#### Il nous reste encore quelques etapes !"
   ],
   "metadata": {
    "collapsed": false
   },
   "id": "e53a1183f0724d06"
  },
  {
   "cell_type": "markdown",
   "source": [
    "# Voyons ensemble quel moyen mettre en place dans le cas des données numériques !"
   ],
   "metadata": {
    "collapsed": false
   },
   "id": "41764395b29aae3b"
  },
  {
   "cell_type": "markdown",
   "source": [
    "### Nous allons appliquer pour les 4 colonnes suivantes la méthode d'imputation par la moyenne, mais tout d'abords un peu de contexte\n",
    "#### Imputation par la moyenne (mean imputation) :\n",
    "##### Définition : Remplacer les valeurs manquantes par la moyenne des valeurs observées dans la même variable."
   ],
   "metadata": {
    "collapsed": false
   },
   "id": "d637e3ac478aa351"
  },
  {
   "cell_type": "code",
   "source": [
    "df['Quality of Sleep'] = df['Quality of Sleep'].fillna(df['Quality of Sleep'].mean())\n",
    "df['Stress Level'] = df['Stress Level'].fillna(df['Stress Level'].mean())\n",
    "df['Heart Rate'] = df['Heart Rate'].fillna(df['Heart Rate'].mean())\n",
    "df['Daily Steps'] = df['Daily Steps'].fillna(df['Daily Steps'].mean())\n",
    "df.isna().sum()"
   ],
   "metadata": {
    "collapsed": false,
    "ExecuteTime": {
     "end_time": "2024-11-07T19:13:19.534242Z",
     "start_time": "2024-11-07T19:13:19.519245Z"
    }
   },
   "id": "763fa958ee475cd",
   "outputs": [
    {
     "data": {
      "text/plain": [
       "Gender                     0\n",
       "Age                        0\n",
       "Occupation                 0\n",
       "Sleep Duration             6\n",
       "Quality of Sleep           0\n",
       "Physical Activity Level    5\n",
       "Stress Level               0\n",
       "BMI Category               0\n",
       "Blood Pressure             7\n",
       "Heart Rate                 0\n",
       "Daily Steps                0\n",
       "Sleep Disorder             0\n",
       "dtype: int64"
      ]
     },
     "execution_count": 37,
     "metadata": {},
     "output_type": "execute_result"
    }
   ],
   "execution_count": 37
  },
  {
   "cell_type": "markdown",
   "source": [
    "##### Grace à la méthode ci-dessus, il ne reste donc plus que trois colonnes à traiter !!"
   ],
   "metadata": {
    "collapsed": false
   },
   "id": "af19e459e4b6a91f"
  },
  {
   "cell_type": "markdown",
   "source": [
    "# ZOOM : le cas particulier de la colonne 'Blood Pressure'"
   ],
   "metadata": {
    "collapsed": false
   },
   "id": "89f519bb16fb499b"
  },
  {
   "cell_type": "markdown",
   "source": [
    "### la particularité de la colonne 'Blood Pressure', c'est bel et bien son contenu\n",
    "#### la case est composé de deux entiers séparés par '/', ce qui en l'état ne peut être utilisé\n",
    "#### Nous devons donc réaliser cette opération afin de pouvoir exploiter les données\n",
    "#### et ainsi remplacer les données existant par le resultat de l'opération préalablement exécutée"
   ],
   "metadata": {
    "collapsed": false
   },
   "id": "7d5dcfa2b41e2e5d"
  },
  {
   "cell_type": "code",
   "source": [
    "df['Blood Pressure'] = df['Blood Pressure'].fillna('0/0')\n",
    "df['Blood Pressure'] = df['Blood Pressure'].astype(str).str.split('/').str[0].astype(int)\n",
    "df['Blood Pressure']"
   ],
   "metadata": {
    "collapsed": false,
    "ExecuteTime": {
     "end_time": "2024-11-07T19:13:19.550243Z",
     "start_time": "2024-11-07T19:13:19.535245Z"
    }
   },
   "id": "acad55120ff11b7",
   "outputs": [
    {
     "data": {
      "text/plain": [
       "0      126\n",
       "1      125\n",
       "2      125\n",
       "3      140\n",
       "4      140\n",
       "      ... \n",
       "361    140\n",
       "362    140\n",
       "364    140\n",
       "366    140\n",
       "368    140\n",
       "Name: Blood Pressure, Length: 272, dtype: int64"
      ]
     },
     "execution_count": 38,
     "metadata": {},
     "output_type": "execute_result"
    }
   ],
   "execution_count": 38
  },
  {
   "cell_type": "markdown",
   "source": [
    "# Avant de continuer si nous visualisions notre Heatmap !!"
   ],
   "metadata": {
    "collapsed": false
   },
   "id": "5e7c308594b02b5f"
  },
  {
   "cell_type": "code",
   "source": [
    "plt.figure(figsize=(10,6))\n",
    "heatmaps = sns.heatmap(df.isna(), cmap='cool')\n",
    "plt.show()"
   ],
   "metadata": {
    "collapsed": false,
    "ExecuteTime": {
     "end_time": "2024-11-07T19:13:19.850243Z",
     "start_time": "2024-11-07T19:13:19.551242Z"
    }
   },
   "id": "dc11af29c606be87",
   "outputs": [
    {
     "data": {
      "text/plain": [
       "<Figure size 1000x600 with 2 Axes>"
      ],
      "image/png": "[encoded data removed]"
     },
     "metadata": {},
     "output_type": "display_data"
    }
   ],
   "execution_count": 39
  },
  {
   "cell_type": "markdown",
   "source": [
    "# Concentrons-nous sur les colonnes 'Sleep Duration' et 'Physical Activity Level'\n",
    "### Ce qui va nous permettre d'aborder deux nouveaux concepts!!"
   ],
   "metadata": {
    "collapsed": false
   },
   "id": "f80c01cb4db3ce6b"
  },
  {
   "cell_type": "markdown",
   "source": [
    "### Pour la colonne 'Sleep Duration', nous allons d'abords explorer notre base de données, dans le but toujours de trouver un lien\n",
    "### Qui nous permettrait de savoir quelle méthode utiliser."
   ],
   "metadata": {
    "collapsed": false
   },
   "id": "f8e086800dc22331"
  },
  {
   "cell_type": "code",
   "id": "d3deac6a",
   "metadata": {
    "ExecuteTime": {
     "end_time": "2024-11-07T19:13:19.866241Z",
     "start_time": "2024-11-07T19:13:19.853244Z"
    }
   },
   "source": [
    "df.loc[df['Sleep Duration'].isna()]"
   ],
   "outputs": [
    {
     "data": {
      "text/plain": [
       "     Gender   Age   Occupation  Sleep Duration  Quality of Sleep  \\\n",
       "32   Female  31.0        Nurse             NaN               8.0   \n",
       "63     Male  32.0       Doctor             NaN               6.0   \n",
       "195    Male  43.0  Salesperson             NaN               6.0   \n",
       "270  Female  49.0        Nurse             NaN               6.0   \n",
       "331  Female  53.0     Engineer             NaN               9.0   \n",
       "344  Female  57.0        Nurse             NaN               9.0   \n",
       "\n",
       "     Physical Activity Level  Stress Level   BMI Category  Blood Pressure  \\\n",
       "32                      75.0           4.0  Normal Weight             117   \n",
       "63                      30.0           8.0  Normal Weight             125   \n",
       "195                     45.0           7.0     Overweight             130   \n",
       "270                     90.0           8.0  Normal Weight             140   \n",
       "331                     30.0           3.0  Normal Weight             125   \n",
       "344                     75.0           3.0     Overweight             140   \n",
       "\n",
       "     Heart Rate  Daily Steps Sleep Disorder  \n",
       "32         69.0       6800.0     Good Sleep  \n",
       "63         72.0       5000.0     Good Sleep  \n",
       "195        72.0       6000.0       Insomnia  \n",
       "270        75.0      10000.0    Sleep Apnea  \n",
       "331        65.0       5000.0     Good Sleep  \n",
       "344        68.0       7000.0    Sleep Apnea  "
      ],
      "text/html": [
       "<div>\n",
       "<style scoped>\n",
       "    .dataframe tbody tr th:only-of-type {\n",
       "        vertical-align: middle;\n",
       "    }\n",
       "\n",
       "    .dataframe tbody tr th {\n",
       "        vertical-align: top;\n",
       "    }\n",
       "\n",
       "    .dataframe thead th {\n",
       "        text-align: right;\n",
       "    }\n",
       "</style>\n",
       "<table border=\"1\" class=\"dataframe\">\n",
       "  <thead>\n",
       "    <tr style=\"text-align: right;\">\n",
       "      <th></th>\n",
       "      <th>Gender</th>\n",
       "      <th>Age</th>\n",
       "      <th>Occupation</th>\n",
       "      <th>Sleep Duration</th>\n",
       "      <th>Quality of Sleep</th>\n",
       "      <th>Physical Activity Level</th>\n",
       "      <th>Stress Level</th>\n",
       "      <th>BMI Category</th>\n",
       "      <th>Blood Pressure</th>\n",
       "      <th>Heart Rate</th>\n",
       "      <th>Daily Steps</th>\n",
       "      <th>Sleep Disorder</th>\n",
       "    </tr>\n",
       "  </thead>\n",
       "  <tbody>\n",
       "    <tr>\n",
       "      <th>32</th>\n",
       "      <td>Female</td>\n",
       "      <td>31.0</td>\n",
       "      <td>Nurse</td>\n",
       "      <td>NaN</td>\n",
       "      <td>8.0</td>\n",
       "      <td>75.0</td>\n",
       "      <td>4.0</td>\n",
       "      <td>Normal Weight</td>\n",
       "      <td>117</td>\n",
       "      <td>69.0</td>\n",
       "      <td>6800.0</td>\n",
       "      <td>Good Sleep</td>\n",
       "    </tr>\n",
       "    <tr>\n",
       "      <th>63</th>\n",
       "      <td>Male</td>\n",
       "      <td>32.0</td>\n",
       "      <td>Doctor</td>\n",
       "      <td>NaN</td>\n",
       "      <td>6.0</td>\n",
       "      <td>30.0</td>\n",
       "      <td>8.0</td>\n",
       "      <td>Normal Weight</td>\n",
       "      <td>125</td>\n",
       "      <td>72.0</td>\n",
       "      <td>5000.0</td>\n",
       "      <td>Good Sleep</td>\n",
       "    </tr>\n",
       "    <tr>\n",
       "      <th>195</th>\n",
       "      <td>Male</td>\n",
       "      <td>43.0</td>\n",
       "      <td>Salesperson</td>\n",
       "      <td>NaN</td>\n",
       "      <td>6.0</td>\n",
       "      <td>45.0</td>\n",
       "      <td>7.0</td>\n",
       "      <td>Overweight</td>\n",
       "      <td>130</td>\n",
       "      <td>72.0</td>\n",
       "      <td>6000.0</td>\n",
       "      <td>Insomnia</td>\n",
       "    </tr>\n",
       "    <tr>\n",
       "      <th>270</th>\n",
       "      <td>Female</td>\n",
       "      <td>49.0</td>\n",
       "      <td>Nurse</td>\n",
       "      <td>NaN</td>\n",
       "      <td>6.0</td>\n",
       "      <td>90.0</td>\n",
       "      <td>8.0</td>\n",
       "      <td>Normal Weight</td>\n",
       "      <td>140</td>\n",
       "      <td>75.0</td>\n",
       "      <td>10000.0</td>\n",
       "      <td>Sleep Apnea</td>\n",
       "    </tr>\n",
       "    <tr>\n",
       "      <th>331</th>\n",
       "      <td>Female</td>\n",
       "      <td>53.0</td>\n",
       "      <td>Engineer</td>\n",
       "      <td>NaN</td>\n",
       "      <td>9.0</td>\n",
       "      <td>30.0</td>\n",
       "      <td>3.0</td>\n",
       "      <td>Normal Weight</td>\n",
       "      <td>125</td>\n",
       "      <td>65.0</td>\n",
       "      <td>5000.0</td>\n",
       "      <td>Good Sleep</td>\n",
       "    </tr>\n",
       "    <tr>\n",
       "      <th>344</th>\n",
       "      <td>Female</td>\n",
       "      <td>57.0</td>\n",
       "      <td>Nurse</td>\n",
       "      <td>NaN</td>\n",
       "      <td>9.0</td>\n",
       "      <td>75.0</td>\n",
       "      <td>3.0</td>\n",
       "      <td>Overweight</td>\n",
       "      <td>140</td>\n",
       "      <td>68.0</td>\n",
       "      <td>7000.0</td>\n",
       "      <td>Sleep Apnea</td>\n",
       "    </tr>\n",
       "  </tbody>\n",
       "</table>\n",
       "</div>"
      ]
     },
     "execution_count": 40,
     "metadata": {},
     "output_type": "execute_result"
    }
   ],
   "execution_count": 40
  },
  {
   "cell_type": "code",
   "id": "ee5b5e8f",
   "metadata": {
    "ExecuteTime": {
     "end_time": "2024-11-07T19:13:19.882242Z",
     "start_time": "2024-11-07T19:13:19.867242Z"
    }
   },
   "source": [
    "df['Sleep Duration'].unique()"
   ],
   "outputs": [
    {
     "data": {
      "text/plain": [
       "array([6.1, 6.2, 5.9, 6.3, 7.8, 6. , 6.5, 7.6, 7.7, 7.9, 6.4, nan, 7.5,\n",
       "       7.2, 5.8, 6.7, 7.3, 7.4, 7.1, 6.6, 6.9, 8. , 6.8, 8.1, 8.3, 8.5,\n",
       "       8.4, 8.2])"
      ]
     },
     "execution_count": 41,
     "metadata": {},
     "output_type": "execute_result"
    }
   ],
   "execution_count": 41
  },
  {
   "cell_type": "code",
   "id": "62b60944",
   "metadata": {
    "ExecuteTime": {
     "end_time": "2024-11-07T19:13:20.150241Z",
     "start_time": "2024-11-07T19:13:19.884244Z"
    }
   },
   "source": [
    "from sklearn.impute import KNNImputer\n",
    "\n",
    "imputer = KNNImputer(n_neighbors=5)\n",
    "df['Sleep Duration'] = imputer.fit_transform(df[['Sleep Duration']])\n",
    "\n",
    "df['Sleep Duration'].isna().sum()"
   ],
   "outputs": [
    {
     "data": {
      "text/plain": [
       "np.int64(0)"
      ]
     },
     "execution_count": 42,
     "metadata": {},
     "output_type": "execute_result"
    }
   ],
   "execution_count": 42
  },
  {
   "cell_type": "code",
   "id": "12f899cc",
   "metadata": {
    "ExecuteTime": {
     "end_time": "2024-11-07T19:13:20.181575Z",
     "start_time": "2024-11-07T19:13:20.151243Z"
    }
   },
   "source": [
    "df['Physical Activity Level'].isna().sum()"
   ],
   "outputs": [
    {
     "data": {
      "text/plain": [
       "np.int64(5)"
      ]
     },
     "execution_count": 43,
     "metadata": {},
     "output_type": "execute_result"
    }
   ],
   "execution_count": 43
  },
  {
   "cell_type": "code",
   "id": "c56a1eaa",
   "metadata": {
    "ExecuteTime": {
     "end_time": "2024-11-07T19:13:20.259514Z",
     "start_time": "2024-11-07T19:13:20.182597Z"
    }
   },
   "source": [
    "df.loc[df['Physical Activity Level'].isna()]\n",
    "# on observe que le pattern est MNAR , il est donc resonnable d'utiliser la regression lineaire"
   ],
   "outputs": [
    {
     "data": {
      "text/plain": [
       "     Gender   Age  Occupation  Sleep Duration  Quality of Sleep  \\\n",
       "140  Female  38.0  Accountant             7.1               8.0   \n",
       "252  Female  45.0     Teacher             6.5               7.0   \n",
       "258  Female  45.0     Teacher             6.6               7.0   \n",
       "269  Female  49.0       Nurse             6.1               6.0   \n",
       "292  Female  50.0       Nurse             6.1               6.0   \n",
       "\n",
       "     Physical Activity Level  Stress Level   BMI Category  Blood Pressure  \\\n",
       "140                      NaN           4.0  Normal Weight             115   \n",
       "252                      NaN           4.0     Overweight             135   \n",
       "258                      NaN           4.0  Normal Weight             135   \n",
       "269                      NaN           8.0     Overweight             140   \n",
       "292                      NaN           8.0     Overweight             140   \n",
       "\n",
       "     Heart Rate   Daily Steps Sleep Disorder  \n",
       "140        68.0   7000.000000     Good Sleep  \n",
       "252        65.0   6000.000000       Insomnia  \n",
       "258        65.0   6872.490706       Insomnia  \n",
       "269        75.0  10000.000000    Sleep Apnea  \n",
       "292        75.0  10000.000000    Sleep Apnea  "
      ],
      "text/html": [
       "<div>\n",
       "<style scoped>\n",
       "    .dataframe tbody tr th:only-of-type {\n",
       "        vertical-align: middle;\n",
       "    }\n",
       "\n",
       "    .dataframe tbody tr th {\n",
       "        vertical-align: top;\n",
       "    }\n",
       "\n",
       "    .dataframe thead th {\n",
       "        text-align: right;\n",
       "    }\n",
       "</style>\n",
       "<table border=\"1\" class=\"dataframe\">\n",
       "  <thead>\n",
       "    <tr style=\"text-align: right;\">\n",
       "      <th></th>\n",
       "      <th>Gender</th>\n",
       "      <th>Age</th>\n",
       "      <th>Occupation</th>\n",
       "      <th>Sleep Duration</th>\n",
       "      <th>Quality of Sleep</th>\n",
       "      <th>Physical Activity Level</th>\n",
       "      <th>Stress Level</th>\n",
       "      <th>BMI Category</th>\n",
       "      <th>Blood Pressure</th>\n",
       "      <th>Heart Rate</th>\n",
       "      <th>Daily Steps</th>\n",
       "      <th>Sleep Disorder</th>\n",
       "    </tr>\n",
       "  </thead>\n",
       "  <tbody>\n",
       "    <tr>\n",
       "      <th>140</th>\n",
       "      <td>Female</td>\n",
       "      <td>38.0</td>\n",
       "      <td>Accountant</td>\n",
       "      <td>7.1</td>\n",
       "      <td>8.0</td>\n",
       "      <td>NaN</td>\n",
       "      <td>4.0</td>\n",
       "      <td>Normal Weight</td>\n",
       "      <td>115</td>\n",
       "      <td>68.0</td>\n",
       "      <td>7000.000000</td>\n",
       "      <td>Good Sleep</td>\n",
       "    </tr>\n",
       "    <tr>\n",
       "      <th>252</th>\n",
       "      <td>Female</td>\n",
       "      <td>45.0</td>\n",
       "      <td>Teacher</td>\n",
       "      <td>6.5</td>\n",
       "      <td>7.0</td>\n",
       "      <td>NaN</td>\n",
       "      <td>4.0</td>\n",
       "      <td>Overweight</td>\n",
       "      <td>135</td>\n",
       "      <td>65.0</td>\n",
       "      <td>6000.000000</td>\n",
       "      <td>Insomnia</td>\n",
       "    </tr>\n",
       "    <tr>\n",
       "      <th>258</th>\n",
       "      <td>Female</td>\n",
       "      <td>45.0</td>\n",
       "      <td>Teacher</td>\n",
       "      <td>6.6</td>\n",
       "      <td>7.0</td>\n",
       "      <td>NaN</td>\n",
       "      <td>4.0</td>\n",
       "      <td>Normal Weight</td>\n",
       "      <td>135</td>\n",
       "      <td>65.0</td>\n",
       "      <td>6872.490706</td>\n",
       "      <td>Insomnia</td>\n",
       "    </tr>\n",
       "    <tr>\n",
       "      <th>269</th>\n",
       "      <td>Female</td>\n",
       "      <td>49.0</td>\n",
       "      <td>Nurse</td>\n",
       "      <td>6.1</td>\n",
       "      <td>6.0</td>\n",
       "      <td>NaN</td>\n",
       "      <td>8.0</td>\n",
       "      <td>Overweight</td>\n",
       "      <td>140</td>\n",
       "      <td>75.0</td>\n",
       "      <td>10000.000000</td>\n",
       "      <td>Sleep Apnea</td>\n",
       "    </tr>\n",
       "    <tr>\n",
       "      <th>292</th>\n",
       "      <td>Female</td>\n",
       "      <td>50.0</td>\n",
       "      <td>Nurse</td>\n",
       "      <td>6.1</td>\n",
       "      <td>6.0</td>\n",
       "      <td>NaN</td>\n",
       "      <td>8.0</td>\n",
       "      <td>Overweight</td>\n",
       "      <td>140</td>\n",
       "      <td>75.0</td>\n",
       "      <td>10000.000000</td>\n",
       "      <td>Sleep Apnea</td>\n",
       "    </tr>\n",
       "  </tbody>\n",
       "</table>\n",
       "</div>"
      ]
     },
     "execution_count": 44,
     "metadata": {},
     "output_type": "execute_result"
    }
   ],
   "execution_count": 44
  },
  {
   "cell_type": "code",
   "id": "8f3079f9",
   "metadata": {
    "ExecuteTime": {
     "end_time": "2024-11-07T19:13:20.291511Z",
     "start_time": "2024-11-07T19:13:20.260512Z"
    }
   },
   "source": [
    "from sklearn.experimental import enable_iterative_imputer\n",
    "from sklearn.impute import IterativeImputer\n",
    "\n",
    "imputer = IterativeImputer()\n",
    "\n",
    "imputer.fit(df[['Physical Activity Level']])\n",
    "\n",
    "df['Physical Activity Level'] = imputer.transform(df[['Physical Activity Level']]).round()\n",
    "\n",
    "df.loc[[140, 252, 258, 269, 292]]"
   ],
   "outputs": [
    {
     "data": {
      "text/plain": [
       "     Gender   Age  Occupation  Sleep Duration  Quality of Sleep  \\\n",
       "140  Female  38.0  Accountant             7.1               8.0   \n",
       "252  Female  45.0     Teacher             6.5               7.0   \n",
       "258  Female  45.0     Teacher             6.6               7.0   \n",
       "269  Female  49.0       Nurse             6.1               6.0   \n",
       "292  Female  50.0       Nurse             6.1               6.0   \n",
       "\n",
       "     Physical Activity Level  Stress Level   BMI Category  Blood Pressure  \\\n",
       "140                     59.0           4.0  Normal Weight             115   \n",
       "252                     59.0           4.0     Overweight             135   \n",
       "258                     59.0           4.0  Normal Weight             135   \n",
       "269                     59.0           8.0     Overweight             140   \n",
       "292                     59.0           8.0     Overweight             140   \n",
       "\n",
       "     Heart Rate   Daily Steps Sleep Disorder  \n",
       "140        68.0   7000.000000     Good Sleep  \n",
       "252        65.0   6000.000000       Insomnia  \n",
       "258        65.0   6872.490706       Insomnia  \n",
       "269        75.0  10000.000000    Sleep Apnea  \n",
       "292        75.0  10000.000000    Sleep Apnea  "
      ],
      "text/html": [
       "<div>\n",
       "<style scoped>\n",
       "    .dataframe tbody tr th:only-of-type {\n",
       "        vertical-align: middle;\n",
       "    }\n",
       "\n",
       "    .dataframe tbody tr th {\n",
       "        vertical-align: top;\n",
       "    }\n",
       "\n",
       "    .dataframe thead th {\n",
       "        text-align: right;\n",
       "    }\n",
       "</style>\n",
       "<table border=\"1\" class=\"dataframe\">\n",
       "  <thead>\n",
       "    <tr style=\"text-align: right;\">\n",
       "      <th></th>\n",
       "      <th>Gender</th>\n",
       "      <th>Age</th>\n",
       "      <th>Occupation</th>\n",
       "      <th>Sleep Duration</th>\n",
       "      <th>Quality of Sleep</th>\n",
       "      <th>Physical Activity Level</th>\n",
       "      <th>Stress Level</th>\n",
       "      <th>BMI Category</th>\n",
       "      <th>Blood Pressure</th>\n",
       "      <th>Heart Rate</th>\n",
       "      <th>Daily Steps</th>\n",
       "      <th>Sleep Disorder</th>\n",
       "    </tr>\n",
       "  </thead>\n",
       "  <tbody>\n",
       "    <tr>\n",
       "      <th>140</th>\n",
       "      <td>Female</td>\n",
       "      <td>38.0</td>\n",
       "      <td>Accountant</td>\n",
       "      <td>7.1</td>\n",
       "      <td>8.0</td>\n",
       "      <td>59.0</td>\n",
       "      <td>4.0</td>\n",
       "      <td>Normal Weight</td>\n",
       "      <td>115</td>\n",
       "      <td>68.0</td>\n",
       "      <td>7000.000000</td>\n",
       "      <td>Good Sleep</td>\n",
       "    </tr>\n",
       "    <tr>\n",
       "      <th>252</th>\n",
       "      <td>Female</td>\n",
       "      <td>45.0</td>\n",
       "      <td>Teacher</td>\n",
       "      <td>6.5</td>\n",
       "      <td>7.0</td>\n",
       "      <td>59.0</td>\n",
       "      <td>4.0</td>\n",
       "      <td>Overweight</td>\n",
       "      <td>135</td>\n",
       "      <td>65.0</td>\n",
       "      <td>6000.000000</td>\n",
       "      <td>Insomnia</td>\n",
       "    </tr>\n",
       "    <tr>\n",
       "      <th>258</th>\n",
       "      <td>Female</td>\n",
       "      <td>45.0</td>\n",
       "      <td>Teacher</td>\n",
       "      <td>6.6</td>\n",
       "      <td>7.0</td>\n",
       "      <td>59.0</td>\n",
       "      <td>4.0</td>\n",
       "      <td>Normal Weight</td>\n",
       "      <td>135</td>\n",
       "      <td>65.0</td>\n",
       "      <td>6872.490706</td>\n",
       "      <td>Insomnia</td>\n",
       "    </tr>\n",
       "    <tr>\n",
       "      <th>269</th>\n",
       "      <td>Female</td>\n",
       "      <td>49.0</td>\n",
       "      <td>Nurse</td>\n",
       "      <td>6.1</td>\n",
       "      <td>6.0</td>\n",
       "      <td>59.0</td>\n",
       "      <td>8.0</td>\n",
       "      <td>Overweight</td>\n",
       "      <td>140</td>\n",
       "      <td>75.0</td>\n",
       "      <td>10000.000000</td>\n",
       "      <td>Sleep Apnea</td>\n",
       "    </tr>\n",
       "    <tr>\n",
       "      <th>292</th>\n",
       "      <td>Female</td>\n",
       "      <td>50.0</td>\n",
       "      <td>Nurse</td>\n",
       "      <td>6.1</td>\n",
       "      <td>6.0</td>\n",
       "      <td>59.0</td>\n",
       "      <td>8.0</td>\n",
       "      <td>Overweight</td>\n",
       "      <td>140</td>\n",
       "      <td>75.0</td>\n",
       "      <td>10000.000000</td>\n",
       "      <td>Sleep Apnea</td>\n",
       "    </tr>\n",
       "  </tbody>\n",
       "</table>\n",
       "</div>"
      ]
     },
     "execution_count": 45,
     "metadata": {},
     "output_type": "execute_result"
    }
   ],
   "execution_count": 45
  },
  {
   "cell_type": "code",
   "id": "1d4ef428",
   "metadata": {
    "ExecuteTime": {
     "end_time": "2024-11-07T19:13:20.307509Z",
     "start_time": "2024-11-07T19:13:20.292514Z"
    }
   },
   "source": [
    "df.isna().sum()"
   ],
   "outputs": [
    {
     "data": {
      "text/plain": [
       "Gender                     0\n",
       "Age                        0\n",
       "Occupation                 0\n",
       "Sleep Duration             0\n",
       "Quality of Sleep           0\n",
       "Physical Activity Level    0\n",
       "Stress Level               0\n",
       "BMI Category               0\n",
       "Blood Pressure             0\n",
       "Heart Rate                 0\n",
       "Daily Steps                0\n",
       "Sleep Disorder             0\n",
       "dtype: int64"
      ]
     },
     "execution_count": 46,
     "metadata": {},
     "output_type": "execute_result"
    }
   ],
   "execution_count": 46
  },
  {
   "cell_type": "code",
   "source": [
    "plt.figure(figsize=(10,6))\n",
    "heatmaps = sns.heatmap(df.isna(), cmap='cool')\n",
    "plt.show()"
   ],
   "metadata": {
    "collapsed": false,
    "ExecuteTime": {
     "end_time": "2024-11-07T19:13:20.610512Z",
     "start_time": "2024-11-07T19:13:20.308513Z"
    }
   },
   "id": "e3939b1aae20330c",
   "outputs": [
    {
     "data": {
      "text/plain": [
       "<Figure size 1000x600 with 2 Axes>"
      ],
      "image/png": "[encoded data removed]"
     },
     "metadata": {},
     "output_type": "display_data"
    }
   ],
   "execution_count": 47
  },
  {
   "cell_type": "code",
   "source": [
    "df_copy2 = df.copy()\n",
    "nom_fichier = 'Sleep_health_and_lifestyle.xlsx'\n",
    "\n",
    "df_copy2.to_excel(nom_fichier, index=False)"
   ],
   "metadata": {
    "collapsed": false,
    "ExecuteTime": {
     "end_time": "2024-11-07T19:15:00.668703Z",
     "start_time": "2024-11-07T19:15:00.583680Z"
    }
   },
   "id": "376101509c123c18",
   "outputs": [],
   "execution_count": 50
  }
 ],
 "metadata": {
  "kernelspec": {
   "display_name": "Python 3 (ipykernel)",
   "language": "python",
   "name": "python3"
  },
  "language_info": {
   "codemirror_mode": {
    "name": "ipython",
    "version": 3
   },
   "file_extension": ".py",
   "mimetype": "text/x-python",
   "name": "python",
   "nbconvert_exporter": "python",
   "pygments_lexer": "ipython3",
   "version": "3.10.11"
  }
 },
 "nbformat": 4,
 "nbformat_minor": 5
}
